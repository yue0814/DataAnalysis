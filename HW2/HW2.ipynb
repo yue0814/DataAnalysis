{
 "cells": [
  {
   "cell_type": "code",
   "execution_count": 1,
   "metadata": {},
   "outputs": [],
   "source": [
    "setwd(\"D:/Google Drive/Fall2017/PHP2550/HW2\")\n",
    "baseseg <- read.csv(\"baseseg.csv\")\n",
    "potential_predictors <- c(\"bascre\", \"sbase\", \"dbase\", \"baseu\", \"AGE\", \"SEX\", \"black\")\n",
    "#eliminate NAs in gfr\n",
    "baseseg <- baseseg[-which(is.na(baseseg$gfr)),]"
   ]
  },
  {
   "cell_type": "code",
   "execution_count": 2,
   "metadata": {},
   "outputs": [
    {
     "data": {
      "text/html": [
       "<ol class=list-inline>\n",
       "\t<li>'bascre'</li>\n",
       "\t<li>'sbase'</li>\n",
       "\t<li>'dbase'</li>\n",
       "\t<li>'baseu'</li>\n",
       "\t<li>'AGE'</li>\n",
       "</ol>\n"
      ],
      "text/latex": [
       "\\begin{enumerate*}\n",
       "\\item 'bascre'\n",
       "\\item 'sbase'\n",
       "\\item 'dbase'\n",
       "\\item 'baseu'\n",
       "\\item 'AGE'\n",
       "\\end{enumerate*}\n"
      ],
      "text/markdown": [
       "1. 'bascre'\n",
       "2. 'sbase'\n",
       "3. 'dbase'\n",
       "4. 'baseu'\n",
       "5. 'AGE'\n",
       "\n",
       "\n"
      ],
      "text/plain": [
       "[1] \"bascre\" \"sbase\"  \"dbase\"  \"baseu\"  \"AGE\"   "
      ]
     },
     "metadata": {},
     "output_type": "display_data"
    }
   ],
   "source": [
    "# extract the significant predictors which have p-values < 0.05\n",
    "potentials <- c()\n",
    "for (i in potential_predictors){\n",
    "  if (summary(lm(paste0(\"baseseg$gfr~baseseg$\",i)))[[4]][8] < 0.05){\n",
    "    potentials <- c(potentials, i)\n",
    "  }\n",
    "}\n",
    "potentials"
   ]
  },
  {
   "cell_type": "code",
   "execution_count": null,
   "metadata": {},
   "outputs": [],
   "source": []
  }
 ],
 "metadata": {
  "kernelspec": {
   "display_name": "R",
   "language": "R",
   "name": "ir"
  },
  "language_info": {
   "codemirror_mode": "r",
   "file_extension": ".r",
   "mimetype": "text/x-r-source",
   "name": "R",
   "pygments_lexer": "r",
   "version": "3.4.1"
  }
 },
 "nbformat": 4,
 "nbformat_minor": 2
}
