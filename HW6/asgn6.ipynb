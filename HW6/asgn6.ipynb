{
 "cells": [
  {
   "cell_type": "markdown",
   "metadata": {},
   "source": [
    "# Homework 6\n",
    "## Yue Peng"
   ]
  },
  {
   "cell_type": "markdown",
   "metadata": {},
   "source": [
    "Use the data from the iod.csv file you analyzed in the previous homework to create\n",
    "a model for GFR that considers nonlinear transformations (polynomials, step functions,\n",
    "splines, generalized additive models) for continuous predictors. Try each type of nonlinear\n",
    "function and give statistical support (e.g, by using a hypothesis test) to your final choice.\n",
    "If the function is nonparametric or hard to interpret, try to represent it using a function\n",
    "that can be interpreted straightforwardly."
   ]
  },
  {
   "cell_type": "code",
   "execution_count": 1,
   "metadata": {},
   "outputs": [
    {
     "name": "stderr",
     "output_type": "stream",
     "text": [
      "c:\\users\\py081\\appdata\\local\\programs\\python\\python35\\lib\\site-packages\\statsmodels\\compat\\pandas.py:56: FutureWarning: The pandas.core.datetools module is deprecated and will be removed in a future version. Please use the pandas.tseries module instead.\n",
      "  from pandas.core import datetools\n"
     ]
    }
   ],
   "source": [
    "%matplotlib inline\n",
    "import pandas as pd\n",
    "import numpy as np\n",
    "import matplotlib.pyplot as plt\n",
    "import statsmodels.api as sm\n",
    "# from IPython.display import Markdown, display\n",
    "\n",
    "from sklearn.model_selection import train_test_split\n",
    "from sklearn.linear_model import Lasso, LassoCV\n",
    "from sklearn.metrics import mean_squared_error\n",
    "from sklearn.model_selection import KFold, cross_val_score\n",
    "from sklearn.preprocessing import scale"
   ]
  },
  {
   "cell_type": "code",
   "execution_count": 2,
   "metadata": {},
   "outputs": [],
   "source": [
    "def pretty_print_linear(coefs, names = None, sort = False):\n",
    "    if names == None:\n",
    "        names = [\"X%s\" % x for x in range(len(coefs))]\n",
    "    lst = zip(coefs, names)\n",
    "    if sort:\n",
    "        lst = sorted(lst,  key = lambda x:-np.abs(x[0]))\n",
    "    return \" + \".join(\"%s \\times %s\" % (round(coef, 5), name)\n",
    "                                   for coef, name in lst)\n",
    "\n",
    "# def printmd(string):\n",
    "#     display(Markdown(string))"
   ]
  },
  {
   "cell_type": "markdown",
   "metadata": {},
   "source": [
    "We will use the **_sklearn_** package in order to perform ridge regression and the lasso."
   ]
  },
  {
   "cell_type": "code",
   "execution_count": 3,
   "metadata": {},
   "outputs": [],
   "source": [
    "data = pd.read_csv('iodatadev.csv')"
   ]
  },
  {
   "cell_type": "markdown",
   "metadata": {},
   "source": [
    "Loading the data set from two kidney disease studies, and use these variables were given"
   ]
  },
  {
   "cell_type": "code",
   "execution_count": 4,
   "metadata": {},
   "outputs": [],
   "source": [
    "vars = [\"WEIGHT\", \"BMI\", \"GFR\", \"UCRE\", \"UUN\", \"UPHO\", \"SUN\", \"SCR\", \"TCHOL\", \"ALB\", \"HBA1C\", \"PHOS\",\n",
    "         \"TRIG\", \"LDL\", \"HDL\", \"HB\", \"MAP\", \"upro\", \"BSA\", \"SODIUM\", \"GLUC\", \"BLACK\", \"HEIGHT\", \"AGE\",\n",
    "         \"FEMALE\", \"cys\", \"DBP\", \"SBP\", \"CRP\", \"Diabetes\", \"hbpstatus\"]"
   ]
  },
  {
   "cell_type": "code",
   "execution_count": 5,
   "metadata": {},
   "outputs": [
    {
     "data": {
      "text/plain": [
       "(2749, 31)"
      ]
     },
     "execution_count": 5,
     "metadata": {},
     "output_type": "execute_result"
    }
   ],
   "source": [
    "data = data[vars]\n",
    "data.shape"
   ]
  },
  {
   "cell_type": "markdown",
   "metadata": {},
   "source": [
    "Before proceeding, let’s first ensure that the missing values in the data set."
   ]
  },
  {
   "cell_type": "code",
   "execution_count": 6,
   "metadata": {},
   "outputs": [
    {
     "name": "stdout",
     "output_type": "stream",
     "text": [
      "WEIGHT has 0 missing values\n",
      "BMI has 190 missing values\n",
      "GFR has 0 missing values\n",
      "UCRE has 630 missing values\n",
      "UUN has 673 missing values\n",
      "UPHO has 1888 missing values\n",
      "SUN has 263 missing values\n",
      "SCR has 6 missing values\n",
      "TCHOL has 869 missing values\n",
      "ALB has 490 missing values\n",
      "HBA1C has 2106 missing values\n",
      "PHOS has 819 missing values\n",
      "TRIG has 2100 missing values\n",
      "LDL has 2104 missing values\n",
      "HDL has 2104 missing values\n",
      "HB has 646 missing values\n",
      "MAP has 630 missing values\n",
      "upro has 840 missing values\n",
      "BSA has 495 missing values\n",
      "SODIUM has 686 missing values\n",
      "GLUC has 576 missing values\n",
      "BLACK has 0 missing values\n",
      "HEIGHT has 1 missing values\n",
      "AGE has 0 missing values\n",
      "FEMALE has 0 missing values\n",
      "cys has 0 missing values\n",
      "DBP has 440 missing values\n",
      "SBP has 440 missing values\n",
      "CRP has 1018 missing values\n",
      "Diabetes has 1 missing values\n",
      "hbpstatus has 1726 missing values\n"
     ]
    }
   ],
   "source": [
    "for i in vars:\n",
    "    print('%s has %d missing values' % (i, sum(data[i].isna())))"
   ]
  },
  {
   "cell_type": "markdown",
   "metadata": {},
   "source": [
    "We decide to drop some variables due to the large amount of missing data but keeping the original dataset as many as possible"
   ]
  },
  {
   "cell_type": "code",
   "execution_count": 7,
   "metadata": {},
   "outputs": [],
   "source": [
    "dat = data[[\"WEIGHT\", \"BMI\", \"GFR\", \"UCRE\", \"UUN\", \"SUN\", \"SCR\", \"TCHOL\", \"ALB\", \"PHOS\",\n",
    "          \"HB\", \"MAP\", \"upro\", \"BSA\", \"SODIUM\", \"GLUC\", \"BLACK\", \"HEIGHT\", \"AGE\",\n",
    "         \"FEMALE\", \"cys\", \"DBP\", \"SBP\", \"Diabetes\"]]"
   ]
  },
  {
   "cell_type": "code",
   "execution_count": 8,
   "metadata": {},
   "outputs": [],
   "source": [
    "dat = dat.dropna()"
   ]
  },
  {
   "cell_type": "code",
   "execution_count": 9,
   "metadata": {},
   "outputs": [],
   "source": [
    "X = dat[[\"WEIGHT\", \"BMI\", \"UCRE\", \"UUN\", \"SUN\", \"SCR\", \"TCHOL\", \"ALB\", \"PHOS\",\n",
    "          \"HB\", \"MAP\", \"upro\", \"BSA\", \"SODIUM\", \"GLUC\", \"BLACK\", \"HEIGHT\", \"AGE\",\n",
    "         \"FEMALE\", \"cys\", \"DBP\", \"SBP\", \"Diabetes\"]]\n",
    "y = dat[\"GFR\"]"
   ]
  },
  {
   "cell_type": "code",
   "execution_count": 10,
   "metadata": {},
   "outputs": [
    {
     "name": "stdout",
     "output_type": "stream",
     "text": [
      "Finally we keep 0.57 of data points with keeping 23/30 predicors\n"
     ]
    }
   ],
   "source": [
    "print(\"Finally we keep %.2f of data points with keeping %d/30 predicors\" %(X.shape[0]/data.shape[0], X.shape[1]))"
   ]
  },
  {
   "cell_type": "markdown",
   "metadata": {},
   "source": [
    "We first split the samples into a training set and a test set in order to estimate the test error of each regression:"
   ]
  },
  {
   "cell_type": "code",
   "execution_count": 11,
   "metadata": {},
   "outputs": [],
   "source": [
    "X_train, X_test , y_train, y_test = train_test_split(X, y, test_size=0.3, random_state=123)"
   ]
  },
  {
   "cell_type": "markdown",
   "metadata": {},
   "source": [
    "## Lasso Regression"
   ]
  },
  {
   "cell_type": "markdown",
   "metadata": {},
   "source": [
    "We will now perform lasso regression in order to predict GFR with feature selection on the data"
   ]
  },
  {
   "cell_type": "markdown",
   "metadata": {},
   "source": [
    "We now perform *10-fold* cross-validation to choose the best alpha, refit the model, and compute the associated test error:"
   ]
  },
  {
   "cell_type": "markdown",
   "metadata": {},
   "source": [
    "We use the *LassoCV* object that sets its $\\lambda$ parameter automatically from the data by internal cross-validation (i.e. it performs cross-validation on the training data it receives)."
   ]
  },
  {
   "cell_type": "code",
   "execution_count": 12,
   "metadata": {},
   "outputs": [],
   "source": [
    "lassocv = LassoCV(alphas=None, cv=10, max_iter=100000, normalize=True)"
   ]
  },
  {
   "cell_type": "code",
   "execution_count": 13,
   "metadata": {},
   "outputs": [
    {
     "data": {
      "text/plain": [
       "LassoCV(alphas=None, copy_X=True, cv=10, eps=0.001, fit_intercept=True,\n",
       "    max_iter=100000, n_alphas=100, n_jobs=1, normalize=True,\n",
       "    positive=False, precompute='auto', random_state=None,\n",
       "    selection='cyclic', tol=0.0001, verbose=False)"
      ]
     },
     "execution_count": 13,
     "metadata": {},
     "output_type": "execute_result"
    }
   ],
   "source": [
    "lassocv.fit(X_train, y_train)"
   ]
  },
  {
   "cell_type": "code",
   "execution_count": 14,
   "metadata": {},
   "outputs": [
    {
     "name": "stdout",
     "output_type": "stream",
     "text": [
      "The test data MSE is 149.89\n",
      "The test data R-squared is 0.72\n"
     ]
    }
   ],
   "source": [
    "lasso = Lasso(max_iter=10000, normalize=True)\n",
    "lasso.set_params(alpha=lassocv.alpha_)\n",
    "lasso.fit(X_train, y_train)\n",
    "print(\"The test data MSE is %.2f\" % (mean_squared_error(y_test, lasso.predict(X_test))))\n",
    "print(\"The test data R-squared is %.2f\" % (lasso.score(X_test, y_test)))"
   ]
  },
  {
   "cell_type": "code",
   "execution_count": 15,
   "metadata": {},
   "outputs": [
    {
     "data": {
      "text/plain": [
       "Lasso(alpha=0.0047921371130301661, copy_X=True, fit_intercept=True,\n",
       "   max_iter=10000, normalize=True, positive=False, precompute=False,\n",
       "   random_state=None, selection='cyclic', tol=0.0001, warm_start=False)"
      ]
     },
     "execution_count": 15,
     "metadata": {},
     "output_type": "execute_result"
    }
   ],
   "source": [
    "lasso.fit(X, y)"
   ]
  },
  {
   "cell_type": "code",
   "execution_count": 16,
   "metadata": {},
   "outputs": [
    {
     "data": {
      "text/plain": [
       "'-13.64599 \\times cys + 5.95952 \\times BLACK + -4.30164 \\times SCR + -3.46714 \\times FEMALE + 2.8663 \\times ALB + 1.59638 \\times PHOS + -0.20604 \\times SUN + 0.12258 \\times HB + 0.0848 \\times UUN + -0.08286 \\times AGE + 0.05791 \\times SODIUM + -0.01942 \\times HEIGHT + 0.01148 \\times GLUC + 0.00694 \\times BMI + 0.0034 \\times UCRE + -0.00271 \\times TCHOL + -0.00032 \\times upro + 0.0 \\times WEIGHT + 0.0 \\times MAP + -0.0 \\times BSA + 0.0 \\times DBP + 0.0 \\times SBP + 0.0 \\times Diabetes'"
      ]
     },
     "execution_count": 16,
     "metadata": {},
     "output_type": "execute_result"
    }
   ],
   "source": [
    "pretty_print_linear(lasso.coef_, list(X.columns), sort = True)"
   ]
  },
  {
   "cell_type": "markdown",
   "metadata": {},
   "source": [
    "$$GFR = $-13.64599 \\times cys + 5.95952 \\times BLACK + -4.30164 \\times SCR +$$\n",
    "\n",
    "$$-3.46714 \\times FEMALE + 2.8663 \\times ALB + 1.59638 \\times PHOS + -0.20604 \\times SUN +$$\n",
    "\n",
    "$$0.12258 \\times HB + 0.0848 \\times UUN + -0.08286 \\times AGE + 0.05791 \\times SODIUM +$$\n",
    "\n",
    "$$-0.01942 \\times HEIGHT + 0.01148 \\times GLUC + 0.00694 \\times BMI + 0.0034 \\times UCRE +$$\n",
    "\n",
    "$$-0.00271 \\times TCHOL + -0.00032 \\times upro + 0.0 \\times WEIGHT + 0.0 \\times MAP +$$\n",
    "\n",
    "$$-0.0 \\times BSA + 0.0 \\times DBP + 0.0 \\times SBP + 0.0 \\times Diabetes$$"
   ]
  },
  {
   "cell_type": "markdown",
   "metadata": {},
   "source": [
    "This is substantially lower than the test set MSE of stepwise regression, and lower than the test set MSE of ridge regression with $\\lambda$ chosen by cross-validation.\n",
    "\n",
    "Also, the lasso has a substantial advantage over ridge regression in that the resulting coefficient estimates are sparse. Here we see that the coefficient estimates of **WEIGHT**, **MAP**, **BSA**, **DBP**, **SBP** and **Diabetes** are exactly zero. The other factors are predictive. This model predicts the data quite well with _MSE = 149.89_ and _R-Squared = 0.72_"
   ]
  },
  {
   "cell_type": "markdown",
   "metadata": {},
   "source": [
    "We selected some significant variables whose absoulte value of their coefficient are greater than one"
   ]
  },
  {
   "cell_type": "code",
   "execution_count": 17,
   "metadata": {},
   "outputs": [],
   "source": [
    "vars_selected = [\"SCR\", \"ALB\", \"PHOS\", \"BLACK\", \"FEMALE\", \"cys\"]"
   ]
  },
  {
   "cell_type": "code",
   "execution_count": 18,
   "metadata": {},
   "outputs": [],
   "source": [
    "X_train = X_train[vars_selected]\n",
    "X_test = X_test[vars_selected]"
   ]
  },
  {
   "cell_type": "code",
   "execution_count": 19,
   "metadata": {},
   "outputs": [
    {
     "data": {
      "text/html": [
       "<div>\n",
       "<style scoped>\n",
       "    .dataframe tbody tr th:only-of-type {\n",
       "        vertical-align: middle;\n",
       "    }\n",
       "\n",
       "    .dataframe tbody tr th {\n",
       "        vertical-align: top;\n",
       "    }\n",
       "\n",
       "    .dataframe thead th {\n",
       "        text-align: right;\n",
       "    }\n",
       "</style>\n",
       "<table border=\"1\" class=\"dataframe\">\n",
       "  <thead>\n",
       "    <tr style=\"text-align: right;\">\n",
       "      <th></th>\n",
       "      <th>SCR</th>\n",
       "      <th>ALB</th>\n",
       "      <th>PHOS</th>\n",
       "      <th>BLACK</th>\n",
       "      <th>FEMALE</th>\n",
       "      <th>cys</th>\n",
       "    </tr>\n",
       "  </thead>\n",
       "  <tbody>\n",
       "    <tr>\n",
       "      <th>2164</th>\n",
       "      <td>2.2</td>\n",
       "      <td>4.4</td>\n",
       "      <td>3.2</td>\n",
       "      <td>1</td>\n",
       "      <td>0</td>\n",
       "      <td>2.23</td>\n",
       "    </tr>\n",
       "    <tr>\n",
       "      <th>1181</th>\n",
       "      <td>2.6</td>\n",
       "      <td>4.5</td>\n",
       "      <td>3.0</td>\n",
       "      <td>1</td>\n",
       "      <td>0</td>\n",
       "      <td>1.33</td>\n",
       "    </tr>\n",
       "    <tr>\n",
       "      <th>2485</th>\n",
       "      <td>2.7</td>\n",
       "      <td>3.2</td>\n",
       "      <td>4.1</td>\n",
       "      <td>1</td>\n",
       "      <td>1</td>\n",
       "      <td>2.83</td>\n",
       "    </tr>\n",
       "    <tr>\n",
       "      <th>1004</th>\n",
       "      <td>1.2</td>\n",
       "      <td>4.1</td>\n",
       "      <td>2.9</td>\n",
       "      <td>0</td>\n",
       "      <td>1</td>\n",
       "      <td>1.23</td>\n",
       "    </tr>\n",
       "    <tr>\n",
       "      <th>1953</th>\n",
       "      <td>2.4</td>\n",
       "      <td>4.3</td>\n",
       "      <td>3.1</td>\n",
       "      <td>1</td>\n",
       "      <td>1</td>\n",
       "      <td>1.94</td>\n",
       "    </tr>\n",
       "  </tbody>\n",
       "</table>\n",
       "</div>"
      ],
      "text/plain": [
       "      SCR  ALB  PHOS  BLACK  FEMALE   cys\n",
       "2164  2.2  4.4   3.2      1       0  2.23\n",
       "1181  2.6  4.5   3.0      1       0  1.33\n",
       "2485  2.7  3.2   4.1      1       1  2.83\n",
       "1004  1.2  4.1   2.9      0       1  1.23\n",
       "1953  2.4  4.3   3.1      1       1  1.94"
      ]
     },
     "execution_count": 19,
     "metadata": {},
     "output_type": "execute_result"
    }
   ],
   "source": [
    "X_train.head()"
   ]
  },
  {
   "cell_type": "markdown",
   "metadata": {},
   "source": [
    "We could know that **cys**, **ALB**, **PHOS** and **SCR** are continuous predictors."
   ]
  },
  {
   "cell_type": "markdown",
   "metadata": {},
   "source": [
    "### Polynomial"
   ]
  },
  {
   "cell_type": "code",
   "execution_count": 20,
   "metadata": {},
   "outputs": [],
   "source": [
    "from sklearn import linear_model\n",
    "from sklearn.preprocessing import PolynomialFeatures"
   ]
  },
  {
   "cell_type": "markdown",
   "metadata": {},
   "source": [
    "Quadratic polynomial"
   ]
  },
  {
   "cell_type": "code",
   "execution_count": 21,
   "metadata": {},
   "outputs": [],
   "source": [
    "poly_reg = PolynomialFeatures(degree = 2)\n",
    "X_train_poly = poly_reg.fit_transform(X_train[[\"cys\", \"ALB\", \"PHOS\", \"SCR\"]])\n",
    "X_test_poly = poly_reg.fit_transform(X_test[[\"cys\", \"ALB\", \"PHOS\", \"SCR\"]])"
   ]
  },
  {
   "cell_type": "code",
   "execution_count": 22,
   "metadata": {},
   "outputs": [
    {
     "data": {
      "text/plain": [
       "LinearRegression(copy_X=True, fit_intercept=True, n_jobs=1, normalize=False)"
      ]
     },
     "execution_count": 22,
     "metadata": {},
     "output_type": "execute_result"
    }
   ],
   "source": [
    "lin_reg_2 = linear_model.LinearRegression()\n",
    "lin_reg_2.fit(X_train_poly, y_train)"
   ]
  },
  {
   "cell_type": "code",
   "execution_count": 23,
   "metadata": {},
   "outputs": [
    {
     "name": "stdout",
     "output_type": "stream",
     "text": [
      "The test data MSE is 118.37\n",
      "The test data R-squared is 0.78\n"
     ]
    }
   ],
   "source": [
    "print(\"The test data MSE is %.2f\" % (mean_squared_error(y_test, lin_reg_2.predict(X_test_poly))))\n",
    "print(\"The test data R-squared is %.2f\" % (lin_reg_2.score(X_test_poly, y_test)))"
   ]
  },
  {
   "cell_type": "markdown",
   "metadata": {},
   "source": [
    "Cubic polynomial"
   ]
  },
  {
   "cell_type": "code",
   "execution_count": 24,
   "metadata": {},
   "outputs": [],
   "source": [
    "poly_reg3 = PolynomialFeatures(degree = 3)\n",
    "X_train_poly3 = poly_reg3.fit_transform(X_train[[\"cys\", \"ALB\", \"PHOS\", \"SCR\"]])\n",
    "X_test_poly3 = poly_reg3.fit_transform(X_test[[\"cys\", \"ALB\", \"PHOS\", \"SCR\"]])"
   ]
  },
  {
   "cell_type": "code",
   "execution_count": 25,
   "metadata": {},
   "outputs": [
    {
     "data": {
      "text/plain": [
       "LinearRegression(copy_X=True, fit_intercept=True, n_jobs=1, normalize=False)"
      ]
     },
     "execution_count": 25,
     "metadata": {},
     "output_type": "execute_result"
    }
   ],
   "source": [
    "lin_reg_3 = linear_model.LinearRegression()\n",
    "lin_reg_3.fit(X_train_poly3, y_train)"
   ]
  },
  {
   "cell_type": "code",
   "execution_count": 26,
   "metadata": {},
   "outputs": [
    {
     "name": "stdout",
     "output_type": "stream",
     "text": [
      "The test data MSE is 109.13\n",
      "The test data R-squared is 0.79\n"
     ]
    }
   ],
   "source": [
    "print(\"The test data MSE is %.2f\" % (mean_squared_error(y_test, lin_reg_3.predict(X_test_poly3))))\n",
    "print(\"The test data R-squared is %.2f\" % (lin_reg_3.score(X_test_poly3, y_test)))"
   ]
  },
  {
   "cell_type": "markdown",
   "metadata": {},
   "source": [
    "The cubic polynomial method has a better capacity to test the nonlinearity since it has less _MSE_ and _R-squared_ "
   ]
  },
  {
   "cell_type": "markdown",
   "metadata": {},
   "source": [
    "### Deciding on a degree"
   ]
  },
  {
   "cell_type": "markdown",
   "metadata": {},
   "source": [
    "We can do this using the __anova\\_lm()__ function, which performs an analysis of variance (ANOVA, using an F-test) in order to test the null hypothesis that a model Model 1 is sufficient to explain the data against the alternative hypothesis that a more complex model Model 2 is required."
   ]
  },
  {
   "cell_type": "code",
   "execution_count": 27,
   "metadata": {},
   "outputs": [],
   "source": [
    "import statsmodels.api as sm"
   ]
  },
  {
   "cell_type": "code",
   "execution_count": 28,
   "metadata": {},
   "outputs": [],
   "source": [
    "X1 = PolynomialFeatures(1).fit_transform(X_train[[\"cys\", \"ALB\", \"PHOS\", \"SCR\"]])\n",
    "X2 = PolynomialFeatures(2).fit_transform(X_train[[\"cys\", \"ALB\", \"PHOS\", \"SCR\"]])\n",
    "X3 = PolynomialFeatures(3).fit_transform(X_train[[\"cys\", \"ALB\", \"PHOS\", \"SCR\"]])\n",
    "X4 = PolynomialFeatures(4).fit_transform(X_train[[\"cys\", \"ALB\", \"PHOS\", \"SCR\"]])\n",
    "X5 = PolynomialFeatures(5).fit_transform(X_train[[\"cys\", \"ALB\", \"PHOS\", \"SCR\"]])"
   ]
  },
  {
   "cell_type": "code",
   "execution_count": 29,
   "metadata": {},
   "outputs": [
    {
     "name": "stdout",
     "output_type": "stream",
     "text": [
      "   df_resid            ssr  df_diff       ss_diff          F        Pr(>F)\n",
      "0    1088.0  184952.160654      0.0           NaN        NaN           NaN\n",
      "1    1078.0  131444.445275     10.0  53507.715379  47.842629  3.438929e-79\n",
      "2    1058.0  120039.870896     20.0  11404.574380   5.098562  2.671357e-12\n",
      "3    1023.0  115066.228375     35.0   4973.642520   1.270589  1.363428e-01\n",
      "4     967.0  108150.329846     56.0   6915.898529   1.104229  2.827319e-01\n"
     ]
    },
    {
     "name": "stderr",
     "output_type": "stream",
     "text": [
      "c:\\users\\py081\\appdata\\local\\programs\\python\\python35\\lib\\site-packages\\scipy\\stats\\_distn_infrastructure.py:879: RuntimeWarning: invalid value encountered in greater\n",
      "  return (self.a < x) & (x < self.b)\n",
      "c:\\users\\py081\\appdata\\local\\programs\\python\\python35\\lib\\site-packages\\scipy\\stats\\_distn_infrastructure.py:879: RuntimeWarning: invalid value encountered in less\n",
      "  return (self.a < x) & (x < self.b)\n",
      "c:\\users\\py081\\appdata\\local\\programs\\python\\python35\\lib\\site-packages\\scipy\\stats\\_distn_infrastructure.py:1821: RuntimeWarning: invalid value encountered in less_equal\n",
      "  cond2 = cond0 & (x <= self.a)\n"
     ]
    }
   ],
   "source": [
    "fit_1 = fit = sm.GLS(y_train, X1).fit()\n",
    "fit_2 = fit = sm.GLS(y_train, X2).fit()\n",
    "fit_3 = fit = sm.GLS(y_train, X3).fit()\n",
    "fit_4 = fit = sm.GLS(y_train, X4).fit()\n",
    "fit_5 = fit = sm.GLS(y_train, X5).fit()\n",
    "\n",
    "print(sm.stats.anova_lm(fit_1, fit_2, fit_3, fit_4, fit_5, typ=1))"
   ]
  },
  {
   "cell_type": "markdown",
   "metadata": {},
   "source": [
    "The p-value comparing the linear Model 1 to the quadratic Model 2 is essentially zero ($<10−78$), indicating that a linear fit is not sufficient. Similarly the p-value comparing the quadratic Model 2 to the cubic Model 3 is very low ($<10-11$), so the quadratic fit is also insufficient. The p-value comparing the cubic and degree-4 polynomials, Model 3 and Model 4, is approximately $0.01$ while the degree-5 polynomial Model 5 seems unnecessary because its p-value is $0.28$. Hence, either a cubic or a quartic polynomial appear to provide a reasonable fit to the data, but lower- or higher-order models are not justified."
   ]
  },
  {
   "cell_type": "markdown",
   "metadata": {},
   "source": [
    "### Step function"
   ]
  },
  {
   "cell_type": "markdown",
   "metadata": {},
   "source": [
    "In order to fit a step function, we use the $cut()$ function:"
   ]
  },
  {
   "cell_type": "markdown",
   "metadata": {},
   "source": [
    "First, we deal with the **cys** predictor"
   ]
  },
  {
   "cell_type": "code",
   "execution_count": 30,
   "metadata": {},
   "outputs": [
    {
     "data": {
      "text/html": [
       "<table class=\"simpletable\">\n",
       "<tr>\n",
       "        <td></td>           <th>coef</th>     <th>std err</th>      <th>z</th>      <th>P>|z|</th>  <th>[0.025</th>    <th>0.975]</th>  \n",
       "</tr>\n",
       "<tr>\n",
       "  <th>const</th>         <td> 2.858e+13</td> <td> 1.64e+14</td> <td>    0.174</td> <td> 0.862</td> <td>-2.93e+14</td> <td> 3.51e+14</td>\n",
       "</tr>\n",
       "<tr>\n",
       "  <th>(0.515, 1.71]</th> <td>-2.858e+13</td> <td> 1.64e+14</td> <td>   -0.174</td> <td> 0.862</td> <td>-3.51e+14</td> <td> 2.93e+14</td>\n",
       "</tr>\n",
       "<tr>\n",
       "  <th>(1.71, 2.9]</th>   <td>-2.858e+13</td> <td> 1.64e+14</td> <td>   -0.174</td> <td> 0.862</td> <td>-3.51e+14</td> <td> 2.93e+14</td>\n",
       "</tr>\n",
       "<tr>\n",
       "  <th>(2.9, 4.09]</th>   <td>-2.858e+13</td> <td> 1.64e+14</td> <td>   -0.174</td> <td> 0.862</td> <td>-3.51e+14</td> <td> 2.93e+14</td>\n",
       "</tr>\n",
       "<tr>\n",
       "  <th>(4.09, 5.28]</th>  <td>-2.858e+13</td> <td> 1.64e+14</td> <td>   -0.174</td> <td> 0.862</td> <td>-3.51e+14</td> <td> 2.93e+14</td>\n",
       "</tr>\n",
       "</table>"
      ],
      "text/plain": [
       "<class 'statsmodels.iolib.table.SimpleTable'>"
      ]
     },
     "execution_count": 30,
     "metadata": {},
     "output_type": "execute_result"
    }
   ],
   "source": [
    "df_cut, bins = pd.cut(X_train.cys, 4, retbins = True, right = True)\n",
    "df_cut.value_counts(sort = False)\n",
    "df_steps = pd.concat([X_train.cys, df_cut, y_train], keys = ['cys','cys_cuts','GFR'], axis = 1)\n",
    "\n",
    "# Create dummy variables for the cys groups\n",
    "df_steps_dummies = pd.get_dummies(df_steps['cys_cuts'])\n",
    "\n",
    "# Statsmodels requires explicit adding of a constant (intercept)\n",
    "df_steps_dummies = sm.add_constant(df_steps_dummies)\n",
    "\n",
    "fit1 = sm.GLM(df_steps.GFR, df_steps_dummies).fit()\n",
    "fit1.summary().tables[1]"
   ]
  },
  {
   "cell_type": "markdown",
   "metadata": {},
   "source": [
    "Then, we deal with the **ALB** predictor"
   ]
  },
  {
   "cell_type": "code",
   "execution_count": 31,
   "metadata": {},
   "outputs": [
    {
     "data": {
      "text/html": [
       "<table class=\"simpletable\">\n",
       "<tr>\n",
       "         <td></td>           <th>coef</th>     <th>std err</th>      <th>z</th>      <th>P>|z|</th>  <th>[0.025</th>    <th>0.975]</th>  \n",
       "</tr>\n",
       "<tr>\n",
       "  <th>const</th>          <td>   35.8918</td> <td>    0.811</td> <td>   44.241</td> <td> 0.000</td> <td>   34.302</td> <td>   37.482</td>\n",
       "</tr>\n",
       "<tr>\n",
       "  <th>(2.798, 3.425]</th> <td>   -5.0783</td> <td>    2.567</td> <td>   -1.978</td> <td> 0.048</td> <td>  -10.110</td> <td>   -0.047</td>\n",
       "</tr>\n",
       "<tr>\n",
       "  <th>(3.425, 4.05]</th>  <td>    2.7367</td> <td>    1.229</td> <td>    2.226</td> <td> 0.026</td> <td>    0.327</td> <td>    5.146</td>\n",
       "</tr>\n",
       "<tr>\n",
       "  <th>(4.05, 4.675]</th>  <td>   15.5430</td> <td>    1.047</td> <td>   14.850</td> <td> 0.000</td> <td>   13.492</td> <td>   17.594</td>\n",
       "</tr>\n",
       "<tr>\n",
       "  <th>(4.675, 5.3]</th>   <td>   22.6905</td> <td>    1.819</td> <td>   12.476</td> <td> 0.000</td> <td>   19.126</td> <td>   26.255</td>\n",
       "</tr>\n",
       "</table>"
      ],
      "text/plain": [
       "<class 'statsmodels.iolib.table.SimpleTable'>"
      ]
     },
     "execution_count": 31,
     "metadata": {},
     "output_type": "execute_result"
    }
   ],
   "source": [
    "df_cut, bins = pd.cut(X_train.ALB, 4, retbins = True, right = True)\n",
    "df_cut.value_counts(sort = False)\n",
    "df_steps = pd.concat([X_train.ALB, df_cut, y_train], keys = ['ALB','ALB_cuts','GFR'], axis = 1)\n",
    "\n",
    "# Create dummy variables for the cys groups\n",
    "df_steps_dummies = pd.get_dummies(df_steps['ALB_cuts'])\n",
    "\n",
    "# Statsmodels requires explicit adding of a constant (intercept)\n",
    "df_steps_dummies = sm.add_constant(df_steps_dummies)\n",
    "\n",
    "fit2 = sm.GLM(df_steps.GFR, df_steps_dummies).fit()\n",
    "fit2.summary().tables[1]"
   ]
  },
  {
   "cell_type": "markdown",
   "metadata": {},
   "source": [
    "Then, we deal with the **PHOS** predictor"
   ]
  },
  {
   "cell_type": "code",
   "execution_count": 32,
   "metadata": {},
   "outputs": [
    {
     "data": {
      "text/html": [
       "<table class=\"simpletable\">\n",
       "<tr>\n",
       "         <td></td>           <th>coef</th>     <th>std err</th>      <th>z</th>      <th>P>|z|</th>  <th>[0.025</th>    <th>0.975]</th>  \n",
       "</tr>\n",
       "<tr>\n",
       "  <th>const</th>          <td>   30.3083</td> <td>    5.971</td> <td>    5.076</td> <td> 0.000</td> <td>   18.606</td> <td>   42.011</td>\n",
       "</tr>\n",
       "<tr>\n",
       "  <th>(1.289, 4.125]</th> <td>   21.1079</td> <td>    5.996</td> <td>    3.520</td> <td> 0.000</td> <td>    9.356</td> <td>   32.860</td>\n",
       "</tr>\n",
       "<tr>\n",
       "  <th>(4.125, 6.95]</th>  <td>    0.7430</td> <td>    6.077</td> <td>    0.122</td> <td> 0.903</td> <td>  -11.167</td> <td>   12.653</td>\n",
       "</tr>\n",
       "<tr>\n",
       "  <th>(6.95, 9.775]</th>  <td>  -21.7953</td> <td>   17.385</td> <td>   -1.254</td> <td> 0.210</td> <td>  -55.870</td> <td>   12.279</td>\n",
       "</tr>\n",
       "<tr>\n",
       "  <th>(9.775, 12.6]</th>  <td>   30.2527</td> <td>   17.385</td> <td>    1.740</td> <td> 0.082</td> <td>   -3.822</td> <td>   64.327</td>\n",
       "</tr>\n",
       "</table>"
      ],
      "text/plain": [
       "<class 'statsmodels.iolib.table.SimpleTable'>"
      ]
     },
     "execution_count": 32,
     "metadata": {},
     "output_type": "execute_result"
    }
   ],
   "source": [
    "df_cut, bins = pd.cut(X_train.PHOS, 4, retbins = True, right = True)\n",
    "df_cut.value_counts(sort = False)\n",
    "df_steps = pd.concat([X_train.PHOS, df_cut, y_train], keys = ['PHOS','PHOS_cuts','GFR'], axis = 1)\n",
    "\n",
    "# Create dummy variables for the cys groups\n",
    "df_steps_dummies = pd.get_dummies(df_steps['PHOS_cuts'])\n",
    "\n",
    "# Statsmodels requires explicit adding of a constant (intercept)\n",
    "df_steps_dummies = sm.add_constant(df_steps_dummies)\n",
    "\n",
    "fit3 = sm.GLM(df_steps.GFR, df_steps_dummies).fit()\n",
    "fit3.summary().tables[1]"
   ]
  },
  {
   "cell_type": "markdown",
   "metadata": {},
   "source": [
    "Then, we deal with the **SCR** predictor"
   ]
  },
  {
   "cell_type": "code",
   "execution_count": 33,
   "metadata": {},
   "outputs": [
    {
     "data": {
      "text/html": [
       "<table class=\"simpletable\">\n",
       "<tr>\n",
       "        <td></td>           <th>coef</th>     <th>std err</th>      <th>z</th>      <th>P>|z|</th>  <th>[0.025</th>    <th>0.975]</th>  \n",
       "</tr>\n",
       "<tr>\n",
       "  <th>const</th>         <td> 8.471e+13</td> <td> 1.87e+14</td> <td>    0.454</td> <td> 0.650</td> <td>-2.81e+14</td> <td>  4.5e+14</td>\n",
       "</tr>\n",
       "<tr>\n",
       "  <th>(0.794, 2.35]</th> <td>-8.471e+13</td> <td> 1.87e+14</td> <td>   -0.454</td> <td> 0.650</td> <td> -4.5e+14</td> <td> 2.81e+14</td>\n",
       "</tr>\n",
       "<tr>\n",
       "  <th>(2.35, 3.9]</th>   <td>-8.471e+13</td> <td> 1.87e+14</td> <td>   -0.454</td> <td> 0.650</td> <td> -4.5e+14</td> <td> 2.81e+14</td>\n",
       "</tr>\n",
       "<tr>\n",
       "  <th>(3.9, 5.45]</th>   <td>-8.471e+13</td> <td> 1.87e+14</td> <td>   -0.454</td> <td> 0.650</td> <td> -4.5e+14</td> <td> 2.81e+14</td>\n",
       "</tr>\n",
       "<tr>\n",
       "  <th>(5.45, 7.0]</th>   <td>-8.471e+13</td> <td> 1.87e+14</td> <td>   -0.454</td> <td> 0.650</td> <td> -4.5e+14</td> <td> 2.81e+14</td>\n",
       "</tr>\n",
       "</table>"
      ],
      "text/plain": [
       "<class 'statsmodels.iolib.table.SimpleTable'>"
      ]
     },
     "execution_count": 33,
     "metadata": {},
     "output_type": "execute_result"
    }
   ],
   "source": [
    "df_cut, bins = pd.cut(X_train.SCR, 4, retbins = True, right = True)\n",
    "df_cut.value_counts(sort = False)\n",
    "df_steps = pd.concat([X_train.SCR, df_cut, y_train], keys = ['SCR','SCR_cuts','GFR'], axis = 1)\n",
    "\n",
    "# Create dummy variables for the cys groups\n",
    "df_steps_dummies = pd.get_dummies(df_steps['SCR_cuts'])\n",
    "\n",
    "# Statsmodels requires explicit adding of a constant (intercept)\n",
    "df_steps_dummies = sm.add_constant(df_steps_dummies)\n",
    "\n",
    "fit4 = sm.GLM(df_steps.GFR, df_steps_dummies).fit()\n",
    "fit4.summary().tables[1]"
   ]
  },
  {
   "cell_type": "markdown",
   "metadata": {},
   "source": [
    "According to the tables above, we choose **ALB** variables to analyse since its p-values are all less than $0.05$."
   ]
  },
  {
   "cell_type": "code",
   "execution_count": 34,
   "metadata": {},
   "outputs": [],
   "source": [
    "df_cut, bins = pd.cut(X_test.ALB, 4, retbins = True, right = True)\n",
    "df_cut.value_counts(sort = False)\n",
    "df_steps = pd.concat([X_test.ALB, df_cut, y_test], keys = ['ALB','ALB_cuts','GFR'], axis = 1)\n",
    "\n",
    "# Create dummy variables for the cys groups\n",
    "df_steps_dummies = pd.get_dummies(df_steps['ALB_cuts'])\n",
    "\n",
    "# Statsmodels requires explicit adding of a constant (intercept)\n",
    "df_steps_dummies = sm.add_constant(df_steps_dummies)"
   ]
  },
  {
   "cell_type": "code",
   "execution_count": 35,
   "metadata": {},
   "outputs": [
    {
     "data": {
      "text/plain": [
       "466.83181274503551"
      ]
     },
     "execution_count": 35,
     "metadata": {},
     "output_type": "execute_result"
    }
   ],
   "source": [
    "mean_squared_error(y_test, fit2.predict(df_steps_dummies))"
   ]
  },
  {
   "cell_type": "markdown",
   "metadata": {},
   "source": [
    "Since the $MSE$ is quite large, it is not flexible and efficient to use step function here."
   ]
  },
  {
   "cell_type": "markdown",
   "metadata": {},
   "source": [
    "### Spline"
   ]
  },
  {
   "cell_type": "code",
   "execution_count": 36,
   "metadata": {},
   "outputs": [
    {
     "data": {
      "text/plain": [
       "(2.8, 5.3)"
      ]
     },
     "execution_count": 36,
     "metadata": {},
     "output_type": "execute_result"
    }
   ],
   "source": [
    "min(X_train.ALB), max(X_train.ALB)"
   ]
  },
  {
   "cell_type": "code",
   "execution_count": 14,
   "metadata": {},
   "outputs": [
    {
     "data": {
      "text/plain": [
       "Intercept                                                                           70.450704\n",
       "bs(X_train.ALB, knots=(3, 3.5, 4, 4.5, 5), degree=3, include_intercept=False)[0]   -34.683821\n",
       "bs(X_train.ALB, knots=(3, 3.5, 4, 4.5, 5), degree=3, include_intercept=False)[1]   -41.856123\n",
       "bs(X_train.ALB, knots=(3, 3.5, 4, 4.5, 5), degree=3, include_intercept=False)[2]   -39.404772\n",
       "bs(X_train.ALB, knots=(3, 3.5, 4, 4.5, 5), degree=3, include_intercept=False)[3]   -29.464482\n",
       "bs(X_train.ALB, knots=(3, 3.5, 4, 4.5, 5), degree=3, include_intercept=False)[4]   -10.703902\n",
       "bs(X_train.ALB, knots=(3, 3.5, 4, 4.5, 5), degree=3, include_intercept=False)[5]   -12.636677\n",
       "bs(X_train.ALB, knots=(3, 3.5, 4, 4.5, 5), degree=3, include_intercept=False)[6]   -10.596142\n",
       "bs(X_train.ALB, knots=(3, 3.5, 4, 4.5, 5), degree=3, include_intercept=False)[7]   -14.648469\n",
       "dtype: float64"
      ]
     },
     "execution_count": 14,
     "metadata": {},
     "output_type": "execute_result"
    }
   ],
   "source": [
    "from patsy import dmatrix\n",
    "\n",
    "# Specifying 3 knots\n",
    "transformed_x_train = dmatrix(\"bs(X_train.ALB, knots=(3,3.5, 4,4.5, 5), degree=3, include_intercept=False)\",\n",
    "                        {\"X_train.ALB\": X_train.ALB}, return_type='dataframe')\n",
    "transformed_x_test = dmatrix(\"bs(X_test.ALB, knots=(3,3.5, 4,4.5, 5), degree=3, include_intercept=False)\",\n",
    "                        {\"X_test.ALB\": X_test.ALB}, return_type='dataframe')\n",
    "# Build a regular linear model from the splines\n",
    "fits1 = sm.GLM(y_train, transformed_x_train).fit()\n",
    "fits1.params"
   ]
  },
  {
   "cell_type": "code",
   "execution_count": 15,
   "metadata": {},
   "outputs": [
    {
     "data": {
      "text/plain": [
       "466.5912955648206"
      ]
     },
     "execution_count": 15,
     "metadata": {},
     "output_type": "execute_result"
    }
   ],
   "source": [
    "mean_squared_error(y_test, fits1.predict(transformed_x_test))"
   ]
  },
  {
   "cell_type": "markdown",
   "metadata": {},
   "source": [
    "In this case python chooses knots which correspond to the 25th, 50th, and 75th percentiles. The default degree is 3 (which yields a cubic spline)."
   ]
  },
  {
   "cell_type": "code",
   "execution_count": 39,
   "metadata": {},
   "outputs": [
    {
     "data": {
      "text/plain": [
       "Intercept                                            53.308028\n",
       "bs(X_train.ALB, df=6, include_intercept=False)[0]   -39.576361\n",
       "bs(X_train.ALB, df=6, include_intercept=False)[1]   -16.386697\n",
       "bs(X_train.ALB, df=6, include_intercept=False)[2]    -6.098438\n",
       "bs(X_train.ALB, df=6, include_intercept=False)[3]    11.280441\n",
       "bs(X_train.ALB, df=6, include_intercept=False)[4]     1.330646\n",
       "bs(X_train.ALB, df=6, include_intercept=False)[5]     6.397505\n",
       "dtype: float64"
      ]
     },
     "execution_count": 39,
     "metadata": {},
     "output_type": "execute_result"
    }
   ],
   "source": [
    "# Specifying 6 degrees of freedom \n",
    "transformed_x_train1 = dmatrix(\"bs(X_train.ALB, df=6, include_intercept=False)\",\n",
    "                        {\"X_train.ALB\": X_train.ALB}, return_type='dataframe')\n",
    "transformed_x_test2 = dmatrix(\"bs(X_test.ALB, df=6, include_intercept=False)\",\n",
    "                        {\"X_test.ALB\": X_test.ALB}, return_type='dataframe')\n",
    "fits2 = sm.GLM(y_train, transformed_x_train1).fit()\n",
    "fits2.params"
   ]
  },
  {
   "cell_type": "code",
   "execution_count": 40,
   "metadata": {},
   "outputs": [
    {
     "data": {
      "text/plain": [
       "467.62042344470427"
      ]
     },
     "execution_count": 40,
     "metadata": {},
     "output_type": "execute_result"
    }
   ],
   "source": [
    "mean_squared_error(y_test, fits2.predict(transformed_x_test2))"
   ]
  },
  {
   "cell_type": "markdown",
   "metadata": {},
   "source": [
    "### GAM"
   ]
  },
  {
   "cell_type": "code",
   "execution_count": 41,
   "metadata": {},
   "outputs": [],
   "source": [
    "from pygam import LinearGAM\n",
    "from pygam.utils import generate_X_grid"
   ]
  },
  {
   "cell_type": "code",
   "execution_count": 42,
   "metadata": {},
   "outputs": [
    {
     "name": "stderr",
     "output_type": "stream",
     "text": [
      "c:\\users\\py081\\appdata\\local\\programs\\python\\python35\\lib\\site-packages\\pygam\\pygam.py:1172: UserWarning: detected catergorical data for feature 3\n",
      "  self._validate_data_dep_params(X)\n",
      "c:\\users\\py081\\appdata\\local\\programs\\python\\python35\\lib\\site-packages\\pygam\\pygam.py:1172: UserWarning: detected catergorical data for feature 4\n",
      "  self._validate_data_dep_params(X)\n",
      "c:\\users\\py081\\appdata\\local\\programs\\python\\python35\\lib\\site-packages\\pygam\\utils.py:69: UserWarning: Could not import Scikit-Sparse or Suite-Sparse.\n",
      "This will slow down optimization for models with monotonicity/convexity penalties and many splines.\n",
      "See installation instructions for installing Scikit-Sparse and Suite-Sparse via Conda.\n",
      "  warnings.warn(msg)\n"
     ]
    }
   ],
   "source": [
    "gam = LinearGAM().fit(X_train, y_train)"
   ]
  },
  {
   "cell_type": "code",
   "execution_count": 43,
   "metadata": {},
   "outputs": [
    {
     "name": "stdout",
     "output_type": "stream",
     "text": [
      "Model Statistics\n",
      "---------------------------\n",
      "edof                 54.338\n",
      "AIC                8141.254\n",
      "AICc               8147.268\n",
      "GCV                 104.837\n",
      "loglikelihood     -4015.288\n",
      "deviance           1038.662\n",
      "scale                95.499\n",
      "\n",
      "Pseudo-R^2\n",
      "----------------------------\n",
      "explained_deviance     0.821\n",
      "McFadden               0.373\n",
      "McFadden_adj           0.365\n"
     ]
    }
   ],
   "source": [
    "gam.summary()"
   ]
  },
  {
   "cell_type": "code",
   "execution_count": 44,
   "metadata": {},
   "outputs": [
    {
     "data": {
      "text/plain": [
       "Index(['SCR', 'ALB', 'PHOS', 'BLACK', 'FEMALE', 'cys'], dtype='object')"
      ]
     },
     "execution_count": 44,
     "metadata": {},
     "output_type": "execute_result"
    }
   ],
   "source": [
    "X_train.columns"
   ]
  },
  {
   "cell_type": "code",
   "execution_count": 45,
   "metadata": {},
   "outputs": [
    {
     "data": {
      "text/plain": [
       "92.705110586667061"
      ]
     },
     "execution_count": 45,
     "metadata": {},
     "output_type": "execute_result"
    }
   ],
   "source": [
    "mean_squared_error(y_test, gam.predict(X_test))"
   ]
  },
  {
   "cell_type": "code",
   "execution_count": 46,
   "metadata": {},
   "outputs": [
    {
     "data": {
      "image/png": "[encoded data removed]",
      "text/plain": [
       "<matplotlib.figure.Figure at 0x2b4643aca58>"
      ]
     },
     "metadata": {},
     "output_type": "display_data"
    }
   ],
   "source": [
    "XX = generate_X_grid(gam)\n",
    "plt.rcParams['figure.figsize'] = (28, 8)\n",
    "fig, axs = plt.subplots(1, 6)\n",
    "titles = X_train.columns\n",
    "for i, ax in enumerate(axs):\n",
    "    pdep, confi = gam.partial_dependence(XX, feature=i+1, width=.95)\n",
    "    ax.plot(XX[:, i], pdep)\n",
    "    ax.plot(XX[:, i], confi[0][:, 0], c='grey', ls='--')\n",
    "    ax.plot(XX[:, i], confi[0][:, 1], c='grey', ls='--')\n",
    "    ax.set_title(titles[i])\n",
    "\n",
    "plt.show()"
   ]
  },
  {
   "cell_type": "markdown",
   "metadata": {},
   "source": [
    "It is clear that some features like **SCR** and **cys** have a fairly simple linear relationship with the **GFR** variable. There are about four features including two non-continuous variables that seem to have strong non-linear relationships though."
   ]
  },
  {
   "cell_type": "markdown",
   "metadata": {},
   "source": [
    "Also, it has the smallest $MSE$ and $AIC$ among four methods we had tested."
   ]
  }
 ],
 "metadata": {
  "kernelspec": {
   "display_name": "Python 3",
   "language": "python",
   "name": "python3"
  },
  "language_info": {
   "codemirror_mode": {
    "name": "ipython",
    "version": 3
   },
   "file_extension": ".py",
   "mimetype": "text/x-python",
   "name": "python",
   "nbconvert_exporter": "python",
   "pygments_lexer": "ipython3",
   "version": "3.5.2"
  }
 },
 "nbformat": 4,
 "nbformat_minor": 2
}
