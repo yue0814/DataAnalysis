{
 "cells": [
  {
   "cell_type": "code",
   "execution_count": 1,
   "metadata": {},
   "outputs": [],
   "source": [
    "dat <- read.csv('iodatadev.csv')"
   ]
  },
  {
   "cell_type": "code",
   "execution_count": 2,
   "metadata": {},
   "outputs": [
    {
     "data": {
      "text/html": [
       "<table>\n",
       "<thead><tr><th scope=col>X</th><th scope=col>WEIGHT</th><th scope=col>BMI</th><th scope=col>GFRDT</th><th scope=col>GFR</th><th scope=col>GFRCV</th><th scope=col>PERIODS</th><th scope=col>EPI</th><th scope=col>UCRE</th><th scope=col>UUN</th><th scope=col>⋯</th><th scope=col>crisp</th><th scope=col>ccfp</th><th scope=col>ccpdonor</th><th scope=col>drds</th><th scope=col>mayo</th><th scope=col>mayodonor</th><th scope=col>rass1</th><th scope=col>UVOL</th><th scope=col>..2</th><th scope=col>..2.1</th></tr></thead>\n",
       "<tbody>\n",
       "\t<tr><td>1          </td><td>63.40000   </td><td>24.88000   </td><td>10895      </td><td> 10.05400  </td><td> 5.46600   </td><td> 4         </td><td>0.82       </td><td> 976       </td><td>   6.000   </td><td>⋯          </td><td>0          </td><td>0          </td><td>0          </td><td>0          </td><td>0          </td><td>0          </td><td>0          </td><td>  NA       </td><td> 1.2725656 </td><td> 1.65345480</td></tr>\n",
       "\t<tr><td>2          </td><td>81.10000   </td><td>29.07957   </td><td>   NA      </td><td> 60.00000  </td><td>      NA   </td><td>NA         </td><td>  NA       </td><td>1320       </td><td>6363.636   </td><td>⋯          </td><td>1          </td><td>0          </td><td>0          </td><td>0          </td><td>0          </td><td>0          </td><td>0          </td><td>2358       </td><td>-0.7765288 </td><td>-0.52763274</td></tr>\n",
       "\t<tr><td>3          </td><td>52.40000   </td><td>19.96647   </td><td>   NA      </td><td>130.00000  </td><td>      NA   </td><td>NA         </td><td>  NA       </td><td>  NA       </td><td>      NA   </td><td>⋯          </td><td>0          </td><td>0          </td><td>0          </td><td>0          </td><td>0          </td><td>1          </td><td>0          </td><td>  NA       </td><td>-0.7765288 </td><td>-0.91335305</td></tr>\n",
       "\t<tr><td>4          </td><td>73.00000   </td><td>24.11151   </td><td>   NA      </td><td>127.00000  </td><td>      NA   </td><td>NA         </td><td>  NA       </td><td>  NA       </td><td>      NA   </td><td>⋯          </td><td>0          </td><td>0          </td><td>1          </td><td>0          </td><td>0          </td><td>0          </td><td>0          </td><td>  NA       </td><td>-0.6931472 </td><td>-0.38566248</td></tr>\n",
       "\t<tr><td>5          </td><td>84.36905   </td><td>26.46093   </td><td>   NA      </td><td> 81.97227  </td><td>12.38414   </td><td>NA         </td><td>  NA       </td><td>1313       </td><td>   5.170   </td><td>⋯          </td><td>0          </td><td>0          </td><td>0          </td><td>0          </td><td>0          </td><td>0          </td><td>0          </td><td>1000       </td><td>-0.6539265 </td><td>-0.01612267</td></tr>\n",
       "\t<tr><td>6          </td><td>92.00000   </td><td>33.38656   </td><td>   NA      </td><td>108.00000  </td><td>      NA   </td><td>NA         </td><td>  NA       </td><td>  NA       </td><td>      NA   </td><td>⋯          </td><td>0          </td><td>0          </td><td>0          </td><td>0          </td><td>0          </td><td>1          </td><td>0          </td><td>  NA       </td><td>-0.6161861 </td><td>-0.69183684</td></tr>\n",
       "</tbody>\n",
       "</table>\n"
      ],
      "text/latex": [
       "\\begin{tabular}{r|lllllllllllllllllllllllllllllllllllllllllllllllllllllllll}\n",
       " X & WEIGHT & BMI & GFRDT & GFR & GFRCV & PERIODS & EPI & UCRE & UUN & ⋯ & crisp & ccfp & ccpdonor & drds & mayo & mayodonor & rass1 & UVOL & ..2 & ..2.1\\\\\n",
       "\\hline\n",
       "\t 1           & 63.40000    & 24.88000    & 10895       &  10.05400   &  5.46600    &  4          & 0.82        &  976        &    6.000    & ⋯           & 0           & 0           & 0           & 0           & 0           & 0           & 0           &   NA        &  1.2725656  &  1.65345480\\\\\n",
       "\t 2           & 81.10000    & 29.07957    &    NA       &  60.00000   &       NA    & NA          &   NA        & 1320        & 6363.636    & ⋯           & 1           & 0           & 0           & 0           & 0           & 0           & 0           & 2358        & -0.7765288  & -0.52763274\\\\\n",
       "\t 3           & 52.40000    & 19.96647    &    NA       & 130.00000   &       NA    & NA          &   NA        &   NA        &       NA    & ⋯           & 0           & 0           & 0           & 0           & 0           & 1           & 0           &   NA        & -0.7765288  & -0.91335305\\\\\n",
       "\t 4           & 73.00000    & 24.11151    &    NA       & 127.00000   &       NA    & NA          &   NA        &   NA        &       NA    & ⋯           & 0           & 0           & 1           & 0           & 0           & 0           & 0           &   NA        & -0.6931472  & -0.38566248\\\\\n",
       "\t 5           & 84.36905    & 26.46093    &    NA       &  81.97227   & 12.38414    & NA          &   NA        & 1313        &    5.170    & ⋯           & 0           & 0           & 0           & 0           & 0           & 0           & 0           & 1000        & -0.6539265  & -0.01612267\\\\\n",
       "\t 6           & 92.00000    & 33.38656    &    NA       & 108.00000   &       NA    & NA          &   NA        &   NA        &       NA    & ⋯           & 0           & 0           & 0           & 0           & 0           & 1           & 0           &   NA        & -0.6161861  & -0.69183684\\\\\n",
       "\\end{tabular}\n"
      ],
      "text/markdown": [
       "\n",
       "X | WEIGHT | BMI | GFRDT | GFR | GFRCV | PERIODS | EPI | UCRE | UUN | ⋯ | crisp | ccfp | ccpdonor | drds | mayo | mayodonor | rass1 | UVOL | ..2 | ..2.1 | \n",
       "|---|---|---|---|---|---|\n",
       "| 1           | 63.40000    | 24.88000    | 10895       |  10.05400   |  5.46600    |  4          | 0.82        |  976        |    6.000    | ⋯           | 0           | 0           | 0           | 0           | 0           | 0           | 0           |   NA        |  1.2725656  |  1.65345480 | \n",
       "| 2           | 81.10000    | 29.07957    |    NA       |  60.00000   |       NA    | NA          |   NA        | 1320        | 6363.636    | ⋯           | 1           | 0           | 0           | 0           | 0           | 0           | 0           | 2358        | -0.7765288  | -0.52763274 | \n",
       "| 3           | 52.40000    | 19.96647    |    NA       | 130.00000   |       NA    | NA          |   NA        |   NA        |       NA    | ⋯           | 0           | 0           | 0           | 0           | 0           | 1           | 0           |   NA        | -0.7765288  | -0.91335305 | \n",
       "| 4           | 73.00000    | 24.11151    |    NA       | 127.00000   |       NA    | NA          |   NA        |   NA        |       NA    | ⋯           | 0           | 0           | 1           | 0           | 0           | 0           | 0           |   NA        | -0.6931472  | -0.38566248 | \n",
       "| 5           | 84.36905    | 26.46093    |    NA       |  81.97227   | 12.38414    | NA          |   NA        | 1313        |    5.170    | ⋯           | 0           | 0           | 0           | 0           | 0           | 0           | 0           | 1000        | -0.6539265  | -0.01612267 | \n",
       "| 6           | 92.00000    | 33.38656    |    NA       | 108.00000   |       NA    | NA          |   NA        |   NA        |       NA    | ⋯           | 0           | 0           | 0           | 0           | 0           | 1           | 0           |   NA        | -0.6161861  | -0.69183684 | \n",
       "\n",
       "\n"
      ],
      "text/plain": [
       "  X WEIGHT   BMI      GFRDT GFR       GFRCV    PERIODS EPI  UCRE UUN      ⋯\n",
       "1 1 63.40000 24.88000 10895  10.05400  5.46600  4      0.82  976    6.000 ⋯\n",
       "2 2 81.10000 29.07957    NA  60.00000       NA NA        NA 1320 6363.636 ⋯\n",
       "3 3 52.40000 19.96647    NA 130.00000       NA NA        NA   NA       NA ⋯\n",
       "4 4 73.00000 24.11151    NA 127.00000       NA NA        NA   NA       NA ⋯\n",
       "5 5 84.36905 26.46093    NA  81.97227 12.38414 NA        NA 1313    5.170 ⋯\n",
       "6 6 92.00000 33.38656    NA 108.00000       NA NA        NA   NA       NA ⋯\n",
       "  crisp ccfp ccpdonor drds mayo mayodonor rass1 UVOL ..2        ..2.1      \n",
       "1 0     0    0        0    0    0         0       NA  1.2725656  1.65345480\n",
       "2 1     0    0        0    0    0         0     2358 -0.7765288 -0.52763274\n",
       "3 0     0    0        0    0    1         0       NA -0.7765288 -0.91335305\n",
       "4 0     0    1        0    0    0         0       NA -0.6931472 -0.38566248\n",
       "5 0     0    0        0    0    0         0     1000 -0.6539265 -0.01612267\n",
       "6 0     0    0        0    0    1         0       NA -0.6161861 -0.69183684"
      ]
     },
     "metadata": {},
     "output_type": "display_data"
    }
   ],
   "source": [
    "head(dat)"
   ]
  },
  {
   "cell_type": "code",
   "execution_count": 3,
   "metadata": {},
   "outputs": [
    {
     "data": {
      "text/html": [
       "<ol class=list-inline>\n",
       "\t<li>2749</li>\n",
       "\t<li>57</li>\n",
       "</ol>\n"
      ],
      "text/latex": [
       "\\begin{enumerate*}\n",
       "\\item 2749\n",
       "\\item 57\n",
       "\\end{enumerate*}\n"
      ],
      "text/markdown": [
       "1. 2749\n",
       "2. 57\n",
       "\n",
       "\n"
      ],
      "text/plain": [
       "[1] 2749   57"
      ]
     },
     "metadata": {},
     "output_type": "display_data"
    }
   ],
   "source": [
    "dim(dat)"
   ]
  },
  {
   "cell_type": "markdown",
   "metadata": {},
   "source": [
    "### Stepwise regression"
   ]
  },
  {
   "cell_type": "code",
   "execution_count": 4,
   "metadata": {},
   "outputs": [],
   "source": [
    "vars <- c(\"WEIGHT\", \"BMI\", \"GFR\", \"UCRE\", \"UUN\", \"UPHO\", \"SUN\", \"SCR\", \"TCHOL\", \"ALB\", \"HBA1C\", \"PHOS\",\n",
    "         \"TRIG\", \"LDL\", \"HDL\", \"HB\", \"MAP\", \"UPRO\", \"BSA\", \"SODIUM\", \"GLUC\", \"BLACK\", \"HEIGHT\", \"AGE\",\n",
    "         \"FEMALE\", \"CYS\", \"DBP\", \"SBP\", \"CRP\", \"DIAB\", \"HBPSTATUS\")"
   ]
  },
  {
   "cell_type": "code",
   "execution_count": 6,
   "metadata": {},
   "outputs": [
    {
     "ename": "ERROR",
     "evalue": "Error in `[.data.frame`(dat, , vars): undefined columns selected\n",
     "output_type": "error",
     "traceback": [
      "Error in `[.data.frame`(dat, , vars): undefined columns selected\nTraceback:\n",
      "1. dat[, vars]",
      "2. `[.data.frame`(dat, , vars)",
      "3. stop(\"undefined columns selected\")"
     ]
    }
   ],
   "source": []
  },
  {
   "cell_type": "code",
   "execution_count": null,
   "metadata": {},
   "outputs": [],
   "source": []
  }
 ],
 "metadata": {
  "kernelspec": {
   "display_name": "R",
   "language": "R",
   "name": "ir"
  },
  "language_info": {
   "codemirror_mode": "r",
   "file_extension": ".r",
   "mimetype": "text/x-r-source",
   "name": "R",
   "pygments_lexer": "r",
   "version": "3.4.2"
  }
 },
 "nbformat": 4,
 "nbformat_minor": 2
}
