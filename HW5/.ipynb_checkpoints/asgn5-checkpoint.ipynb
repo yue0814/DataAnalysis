{
 "cells": [
  {
   "cell_type": "markdown",
   "metadata": {},
   "source": [
    "# Homework 5\n",
    "## Yue Peng"
   ]
  },
  {
   "cell_type": "markdown",
   "metadata": {},
   "source": [
    "This jupyter notebook use GFR as your outcome and construct a predictive model for it using \n",
    "\n",
    "a) stepwise regression;\n",
    "\n",
    "b) ridge regression; \n",
    "\n",
    "c) lasso regression \n",
    "\n",
    "using cross-validation to choose your model form."
   ]
  },
  {
   "cell_type": "code",
   "execution_count": 2,
   "metadata": {},
   "outputs": [
    {
     "name": "stderr",
     "output_type": "stream",
     "text": [
      "c:\\users\\py081\\appdata\\local\\programs\\python\\python35\\lib\\site-packages\\statsmodels\\compat\\pandas.py:56: FutureWarning: The pandas.core.datetools module is deprecated and will be removed in a future version. Please use the pandas.tseries module instead.\n",
      "  from pandas.core import datetools\n"
     ]
    }
   ],
   "source": [
    "%matplotlib inline\n",
    "import pandas as pd\n",
    "import numpy as np\n",
    "import matplotlib.pyplot as plt\n",
    "import statsmodels.api as sm\n",
    "# from IPython.display import Markdown, display\n",
    "\n",
    "from sklearn.model_selection import train_test_split\n",
    "from sklearn.linear_model import LinearRegression, Lasso, Ridge, RidgeCV, LassoCV\n",
    "from sklearn.metrics import mean_squared_error\n",
    "from sklearn.model_selection import KFold, cross_val_score\n",
    "from sklearn.preprocessing import scale"
   ]
  },
  {
   "cell_type": "code",
   "execution_count": 21,
   "metadata": {},
   "outputs": [],
   "source": [
    "def pretty_print_linear(coefs, names = None, sort = False):\n",
    "    if names == None:\n",
    "        names = [\"X%s\" % x for x in range(len(coefs))]\n",
    "    lst = zip(coefs, names)\n",
    "    if sort:\n",
    "        lst = sorted(lst,  key = lambda x:-np.abs(x[0]))\n",
    "    return \" + \".join(\"%s \\times %s\" % (round(coef, 5), name)\n",
    "                                   for coef, name in lst)\n",
    "\n",
    "# def printmd(string):\n",
    "#     display(Markdown(string))"
   ]
  },
  {
   "cell_type": "markdown",
   "metadata": {},
   "source": [
    "We will use the **_sklearn_** package in order to perform ridge regression and the lasso."
   ]
  },
  {
   "cell_type": "code",
   "execution_count": 4,
   "metadata": {},
   "outputs": [],
   "source": [
    "data = pd.read_csv('iodatadev.csv')"
   ]
  },
  {
   "cell_type": "markdown",
   "metadata": {},
   "source": [
    "Loading the data set from two kidney disease studies, and use these variables were given"
   ]
  },
  {
   "cell_type": "code",
   "execution_count": 5,
   "metadata": {},
   "outputs": [],
   "source": [
    "vars = [\"WEIGHT\", \"BMI\", \"GFR\", \"UCRE\", \"UUN\", \"UPHO\", \"SUN\", \"SCR\", \"TCHOL\", \"ALB\", \"HBA1C\", \"PHOS\",\n",
    "         \"TRIG\", \"LDL\", \"HDL\", \"HB\", \"MAP\", \"upro\", \"BSA\", \"SODIUM\", \"GLUC\", \"BLACK\", \"HEIGHT\", \"AGE\",\n",
    "         \"FEMALE\", \"cys\", \"DBP\", \"SBP\", \"CRP\", \"Diabetes\", \"hbpstatus\"]"
   ]
  },
  {
   "cell_type": "code",
   "execution_count": 6,
   "metadata": {},
   "outputs": [
    {
     "data": {
      "text/plain": [
       "(2749, 31)"
      ]
     },
     "execution_count": 6,
     "metadata": {},
     "output_type": "execute_result"
    }
   ],
   "source": [
    "data = data[vars]\n",
    "data.shape"
   ]
  },
  {
   "cell_type": "markdown",
   "metadata": {},
   "source": [
    "Before proceeding, let’s first ensure that the missing values in the data set."
   ]
  },
  {
   "cell_type": "code",
   "execution_count": 7,
   "metadata": {},
   "outputs": [
    {
     "name": "stdout",
     "output_type": "stream",
     "text": [
      "WEIGHT has 0 missing values\n",
      "BMI has 190 missing values\n",
      "GFR has 0 missing values\n",
      "UCRE has 630 missing values\n",
      "UUN has 673 missing values\n",
      "UPHO has 1888 missing values\n",
      "SUN has 263 missing values\n",
      "SCR has 6 missing values\n",
      "TCHOL has 869 missing values\n",
      "ALB has 490 missing values\n",
      "HBA1C has 2106 missing values\n",
      "PHOS has 819 missing values\n",
      "TRIG has 2100 missing values\n",
      "LDL has 2104 missing values\n",
      "HDL has 2104 missing values\n",
      "HB has 646 missing values\n",
      "MAP has 630 missing values\n",
      "upro has 840 missing values\n",
      "BSA has 495 missing values\n",
      "SODIUM has 686 missing values\n",
      "GLUC has 576 missing values\n",
      "BLACK has 0 missing values\n",
      "HEIGHT has 1 missing values\n",
      "AGE has 0 missing values\n",
      "FEMALE has 0 missing values\n",
      "cys has 0 missing values\n",
      "DBP has 440 missing values\n",
      "SBP has 440 missing values\n",
      "CRP has 1018 missing values\n",
      "Diabetes has 1 missing values\n",
      "hbpstatus has 1726 missing values\n"
     ]
    }
   ],
   "source": [
    "for i in vars:\n",
    "    print('%s has %d missing values' % (i, sum(data[i].isna())))"
   ]
  },
  {
   "cell_type": "markdown",
   "metadata": {},
   "source": [
    "We decide to drop some variables due to the large amount of missing data but keeping the original dataset as many as possible"
   ]
  },
  {
   "cell_type": "code",
   "execution_count": 8,
   "metadata": {},
   "outputs": [],
   "source": [
    "dat = data[[\"WEIGHT\", \"BMI\", \"GFR\", \"UCRE\", \"UUN\", \"SUN\", \"SCR\", \"TCHOL\", \"ALB\", \"PHOS\",\n",
    "          \"HB\", \"MAP\", \"upro\", \"BSA\", \"SODIUM\", \"GLUC\", \"BLACK\", \"HEIGHT\", \"AGE\",\n",
    "         \"FEMALE\", \"cys\", \"DBP\", \"SBP\", \"Diabetes\"]]"
   ]
  },
  {
   "cell_type": "code",
   "execution_count": 9,
   "metadata": {},
   "outputs": [],
   "source": [
    "dat = dat.dropna()"
   ]
  },
  {
   "cell_type": "code",
   "execution_count": 10,
   "metadata": {},
   "outputs": [],
   "source": [
    "X = dat[[\"WEIGHT\", \"BMI\", \"UCRE\", \"UUN\", \"SUN\", \"SCR\", \"TCHOL\", \"ALB\", \"PHOS\",\n",
    "          \"HB\", \"MAP\", \"upro\", \"BSA\", \"SODIUM\", \"GLUC\", \"BLACK\", \"HEIGHT\", \"AGE\",\n",
    "         \"FEMALE\", \"cys\", \"DBP\", \"SBP\", \"Diabetes\"]]\n",
    "y = dat[\"GFR\"]"
   ]
  },
  {
   "cell_type": "code",
   "execution_count": 11,
   "metadata": {},
   "outputs": [
    {
     "name": "stdout",
     "output_type": "stream",
     "text": [
      "Finally we keep 0.57 of data points with keeping 23/30 predicors\n"
     ]
    }
   ],
   "source": [
    "print(\"Finally we keep %.2f of data points with keeping %d/30 predicors\" %(X.shape[0]/data.shape[0], X.shape[1]))"
   ]
  },
  {
   "cell_type": "markdown",
   "metadata": {},
   "source": [
    "## a) Stepwise Regression"
   ]
  },
  {
   "cell_type": "markdown",
   "metadata": {},
   "source": [
    "We will now perform the stepwise regression in order to predict *GFR* with selected predictors"
   ]
  },
  {
   "cell_type": "markdown",
   "metadata": {},
   "source": [
    "We first split the samples into a training set and a test set in order to estimate the test error of each regression:"
   ]
  },
  {
   "cell_type": "code",
   "execution_count": 12,
   "metadata": {},
   "outputs": [],
   "source": [
    "X_train, X_test , y_train, y_test = train_test_split(X, y, test_size=0.3, random_state=123)"
   ]
  },
  {
   "cell_type": "markdown",
   "metadata": {},
   "source": [
    "We will choose predictors stepwisely here by comparing the p-values"
   ]
  },
  {
   "cell_type": "code",
   "execution_count": 13,
   "metadata": {},
   "outputs": [],
   "source": [
    "def stepwise_selection(X, y, \n",
    "                       initial_list=[], \n",
    "                       threshold_in=0.01, \n",
    "                       threshold_out = 0.05, \n",
    "                       verbose=True):\n",
    "\n",
    "    included = list(initial_list)\n",
    "    while True:\n",
    "        changed=False\n",
    "        # forward step\n",
    "        excluded = list(set(X.columns)-set(included))\n",
    "        new_pval = pd.Series(index=excluded)\n",
    "        for new_column in excluded:\n",
    "            model = sm.OLS(y, sm.add_constant(pd.DataFrame(X[included+[new_column]]))).fit()\n",
    "            new_pval[new_column] = model.pvalues[new_column]\n",
    "        best_pval = new_pval.min()\n",
    "        if best_pval < threshold_in:\n",
    "            best_feature = new_pval.idxmin()\n",
    "            included.append(best_feature)\n",
    "            changed=True\n",
    "            if verbose:\n",
    "                print('Add  {:30} with p-value {:.6}'.format(best_feature, best_pval))\n",
    "\n",
    "        # backward step\n",
    "        model = sm.OLS(y, sm.add_constant(pd.DataFrame(X[included]))).fit()\n",
    "        # use all coefs except intercept\n",
    "        pvalues = model.pvalues.iloc[1:]\n",
    "        worst_pval = pvalues.max() # null if pvalues is empty\n",
    "        if worst_pval > threshold_out:\n",
    "            changed=True\n",
    "            worst_feature = pvalues.idxmax()\n",
    "            included.remove(worst_feature)\n",
    "            if verbose:\n",
    "                print('Drop {:30} with p-value {:.6}'.format(worst_feature, worst_pval))\n",
    "        if not changed:\n",
    "            break\n",
    "    return included\n"
   ]
  },
  {
   "cell_type": "code",
   "execution_count": 14,
   "metadata": {},
   "outputs": [
    {
     "name": "stdout",
     "output_type": "stream",
     "text": [
      "Add  cys                            with p-value 8.40897e-253\n",
      "Add  SUN                            with p-value 2.81868e-15\n",
      "Add  UCRE                           with p-value 3.22301e-12\n",
      "Add  BLACK                          with p-value 2.45756e-07\n",
      "Add  SCR                            with p-value 2.80163e-06\n",
      "Add  FEMALE                         with p-value 6.4103e-08\n",
      "Add  ALB                            with p-value 0.000196941\n",
      "Add  AGE                            with p-value 0.000426735\n",
      "Add  PHOS                           with p-value 0.00361863\n"
     ]
    }
   ],
   "source": [
    "result = stepwise_selection(X_train, y_train)"
   ]
  },
  {
   "cell_type": "markdown",
   "metadata": {},
   "source": [
    "The next step is to use 10-fold cross-validation to get an estimate of test error"
   ]
  },
  {
   "cell_type": "code",
   "execution_count": 15,
   "metadata": {},
   "outputs": [],
   "source": [
    "kfold = KFold(n_splits=10, random_state=123)"
   ]
  },
  {
   "cell_type": "code",
   "execution_count": 16,
   "metadata": {},
   "outputs": [],
   "source": [
    "model = LinearRegression()"
   ]
  },
  {
   "cell_type": "code",
   "execution_count": 17,
   "metadata": {},
   "outputs": [
    {
     "data": {
      "text/plain": [
       "LinearRegression(copy_X=True, fit_intercept=True, n_jobs=1, normalize=False)"
      ]
     },
     "execution_count": 17,
     "metadata": {},
     "output_type": "execute_result"
    }
   ],
   "source": [
    "model.fit(X_train[result], y_train)"
   ]
  },
  {
   "cell_type": "code",
   "execution_count": 18,
   "metadata": {},
   "outputs": [
    {
     "name": "stdout",
     "output_type": "stream",
     "text": [
      "The test data MSE is 150.61\n",
      "The test data R-squared is 0.72\n"
     ]
    }
   ],
   "source": [
    "print(\"The test data MSE is %.2f\" % (mean_squared_error(y_test, model.predict(X_test[result]))))\n",
    "print(\"The test data R-squared is %.2f\" % (model.score(X_test[result], y_test)))"
   ]
  },
  {
   "cell_type": "markdown",
   "metadata": {},
   "source": [
    "Refit on the whole dataset."
   ]
  },
  {
   "cell_type": "code",
   "execution_count": 19,
   "metadata": {},
   "outputs": [
    {
     "data": {
      "text/plain": [
       "LinearRegression(copy_X=True, fit_intercept=True, n_jobs=1, normalize=False)"
      ]
     },
     "execution_count": 19,
     "metadata": {},
     "output_type": "execute_result"
    }
   ],
   "source": [
    "model.fit(X[result], y)"
   ]
  },
  {
   "cell_type": "code",
   "execution_count": 23,
   "metadata": {},
   "outputs": [],
   "source": [
    "# pretty_print_linear(model.coef_, list(X.columns), sort = True)"
   ]
  },
  {
   "cell_type": "markdown",
   "metadata": {},
   "source": [
    "$$GFR = -13.43624 \\times WEIGHT + 6.28102 \\times UUN + -5.14149 \\times SUN +$$\n",
    "\n",
    "$$-4.00478 \\times SCR + 3.6949 \\times TCHOL + 2.13301 \\times PHOS + -0.19936 \\times BMI +$$\n",
    "\n",
    "$$-0.09068 \\times ALB + 0.0038 \\times UCRE$$"
   ]
  },
  {
   "cell_type": "markdown",
   "metadata": {},
   "source": [
    "## b) Ridge Regression"
   ]
  },
  {
   "cell_type": "markdown",
   "metadata": {},
   "source": [
    "We will now perform ridge regression in order to predict *GFR* on the data"
   ]
  },
  {
   "cell_type": "code",
   "execution_count": 25,
   "metadata": {},
   "outputs": [],
   "source": [
    "lambd = 10**np.linspace(10,-4,500)*0.5"
   ]
  },
  {
   "cell_type": "code",
   "execution_count": 26,
   "metadata": {},
   "outputs": [
    {
     "data": {
      "text/plain": [
       "Text(0,0.5,'weights')"
      ]
     },
     "execution_count": 26,
     "metadata": {},
     "output_type": "execute_result"
    },
    {
     "data": {
      "image/png": "[encoded data removed]",
      "text/plain": [
       "<matplotlib.figure.Figure at 0x17587409cc0>"
      ]
     },
     "metadata": {},
     "output_type": "display_data"
    }
   ],
   "source": [
    "ridge = Ridge(normalize=True)\n",
    "coefs = []\n",
    "for a in lambd:\n",
    "    ridge.set_params(alpha=a)\n",
    "    ridge.fit(X, y)\n",
    "    coefs.append(ridge.coef_)\n",
    "ax = plt.gca()\n",
    "ax.plot(lambd, coefs)\n",
    "ax.set_xscale('log')\n",
    "plt.axis('tight')\n",
    "plt.xlabel('lambd')\n",
    "plt.ylabel('weights')"
   ]
  },
  {
   "cell_type": "markdown",
   "metadata": {},
   "source": [
    "We expect the coefficient estimates to be much smaller, in terms of $L_2$ norm, when a large value of alpha is used, as compared to when a small value of alpha is used. "
   ]
  },
  {
   "cell_type": "markdown",
   "metadata": {},
   "source": [
    "It would be better to use cross-validation to choose the tuning parameter $\\lambda$. We can do this using the cross-validated ridge regression function, *RidgeCV( )*. By default, the function performs generalized cross-validation (an efficient form of LOOCV)"
   ]
  },
  {
   "cell_type": "code",
   "execution_count": 27,
   "metadata": {},
   "outputs": [
    {
     "name": "stdout",
     "output_type": "stream",
     "text": [
      "The range of lambda is from 0 to 5000000000 \n"
     ]
    }
   ],
   "source": [
    "print(\"The range of lambda is from %d to %d \" % (min(lambd), max(lambd)))"
   ]
  },
  {
   "cell_type": "code",
   "execution_count": 28,
   "metadata": {},
   "outputs": [],
   "source": [
    "ridgecv = RidgeCV(alphas=lambd, scoring='neg_mean_squared_error', normalize=True)"
   ]
  },
  {
   "cell_type": "code",
   "execution_count": 29,
   "metadata": {},
   "outputs": [
    {
     "name": "stdout",
     "output_type": "stream",
     "text": [
      "Therefore, we can see that the value of alpha that results in the smallest cross-validation error is 0.04. \n"
     ]
    }
   ],
   "source": [
    "ridgecv.fit(X_train, y_train)\n",
    "print( 'Therefore, we can see that the value of alpha that results in the\\\n",
    "    smallest cross-validation error is %.2f. '% (ridgecv.alpha_))"
   ]
  },
  {
   "cell_type": "markdown",
   "metadata": {},
   "source": [
    "Some scores associated with this value of $\\lambda$ are "
   ]
  },
  {
   "cell_type": "code",
   "execution_count": 30,
   "metadata": {},
   "outputs": [
    {
     "name": "stdout",
     "output_type": "stream",
     "text": [
      "The test data MSE is 150.10\n",
      "The test data R-squared is 0.72\n"
     ]
    }
   ],
   "source": [
    "ridge = Ridge(alpha=ridgecv.alpha_, normalize=True)\n",
    "ridge.fit(X_train, y_train)\n",
    "print(\"The test data MSE is %.2f\" % (mean_squared_error(y_test, ridge.predict(X_test))))\n",
    "print(\"The test data R-squared is %.2f\" % (ridge.score(X_test, y_test)))"
   ]
  },
  {
   "cell_type": "markdown",
   "metadata": {},
   "source": [
    "Finally, we refit our ridge regression model on the full data set, using the value of $\\lambda$ chosen by cross-validation, and examine the coefficient estimates."
   ]
  },
  {
   "cell_type": "code",
   "execution_count": 31,
   "metadata": {},
   "outputs": [
    {
     "data": {
      "text/plain": [
       "Ridge(alpha=0.036365825565007268, copy_X=True, fit_intercept=True,\n",
       "   max_iter=None, normalize=True, random_state=None, solver='auto',\n",
       "   tol=0.001)"
      ]
     },
     "execution_count": 31,
     "metadata": {},
     "output_type": "execute_result"
    }
   ],
   "source": [
    "ridge.fit(X, y)"
   ]
  },
  {
   "cell_type": "code",
   "execution_count": 33,
   "metadata": {
    "scrolled": true
   },
   "outputs": [],
   "source": [
    "# pretty_print_linear(ridge.coef_, list(X.columns), sort = True)"
   ]
  },
  {
   "cell_type": "markdown",
   "metadata": {},
   "source": [
    "$$GFR = -12.11437 \\times cys + 6.38521 \\times BLACK + -4.83569 \\times SCR +$$\n",
    "\n",
    "$$-4.50013 \\times FEMALE + 2.99748 \\times ALB + 2.00658 \\times PHOS + -1.79445 \\times BSA +$$\n",
    "\n",
    "$$-0.24324 \\times SUN + 0.22664 \\times HB + 0.22337 \\times Diabetes + 0.18648 \\times UUN +$$\n",
    "\n",
    "$$0.11935 \\times SODIUM + 0.11521 \\times BMI + -0.10924 \\times AGE + -0.02569 \\times HEIGHT +$$\n",
    "\n",
    "$$0.02269 \\times GLUC + -0.02128 \\times WEIGHT + -0.00556 \\times TCHOL + 0.00328 \\times UCRE +$$\n",
    "\n",
    "$$0.00219 \\times MAP + 0.00197 \\times DBP + -0.00093 \\times SBP + -0.00055 \\times upro$$"
   ]
  },
  {
   "cell_type": "markdown",
   "metadata": {},
   "source": [
    "As expected, none of the coefficients are exactly zero, that is, ridge regression does not perform variable selection."
   ]
  },
  {
   "cell_type": "markdown",
   "metadata": {},
   "source": [
    "## Lasso Regression"
   ]
  },
  {
   "cell_type": "markdown",
   "metadata": {},
   "source": [
    "We will now perform lasso regression in order to predict GFR on the data"
   ]
  },
  {
   "cell_type": "markdown",
   "metadata": {},
   "source": [
    "We saw that ridge regression with a wise choice of $\\lambda$ can outperform least squares. We will see whether the lasso can yield either a more accurate or a more interpretable model than ridge regression in this part."
   ]
  },
  {
   "cell_type": "code",
   "execution_count": 34,
   "metadata": {},
   "outputs": [
    {
     "data": {
      "text/plain": [
       "Text(0,0.5,'weights')"
      ]
     },
     "execution_count": 34,
     "metadata": {},
     "output_type": "execute_result"
    },
    {
     "data": {
      "image/png": "[encoded data removed]",
      "text/plain": [
       "<matplotlib.figure.Figure at 0x1758c5b16a0>"
      ]
     },
     "metadata": {},
     "output_type": "display_data"
    }
   ],
   "source": [
    "lasso = Lasso(max_iter=10000, normalize=True)\n",
    "coefs = []\n",
    "for a in lambd:\n",
    "    lasso.set_params(alpha=a)\n",
    "    lasso.fit(scale(X_train), y_train)\n",
    "    coefs.append(lasso.coef_)\n",
    "ax = plt.gca()\n",
    "ax.plot(lambd*2, coefs)\n",
    "ax.set_xscale('log')\n",
    "plt.axis('tight')\n",
    "plt.xlabel('lambd')\n",
    "plt.ylabel('weights')"
   ]
  },
  {
   "cell_type": "markdown",
   "metadata": {},
   "source": [
    "Notice that in the coefficient plot that depending on the choice of tuning parameter, some of the coefficients are exactly equal to zero. We now perform *10-fold* cross-validation to choose the best alpha, refit the model, and compute the associated test error:"
   ]
  },
  {
   "cell_type": "markdown",
   "metadata": {},
   "source": [
    "We use the *LassoCV* object that sets its $\\lambda$ parameter automatically from the data by internal cross-validation (i.e. it performs cross-validation on the training data it receives)."
   ]
  },
  {
   "cell_type": "code",
   "execution_count": 35,
   "metadata": {},
   "outputs": [],
   "source": [
    "lassocv = LassoCV(alphas=None, cv=10, max_iter=100000, normalize=True)"
   ]
  },
  {
   "cell_type": "code",
   "execution_count": 36,
   "metadata": {},
   "outputs": [
    {
     "data": {
      "text/plain": [
       "LassoCV(alphas=None, copy_X=True, cv=10, eps=0.001, fit_intercept=True,\n",
       "    max_iter=100000, n_alphas=100, n_jobs=1, normalize=True,\n",
       "    positive=False, precompute='auto', random_state=None,\n",
       "    selection='cyclic', tol=0.0001, verbose=False)"
      ]
     },
     "execution_count": 36,
     "metadata": {},
     "output_type": "execute_result"
    }
   ],
   "source": [
    "lassocv.fit(X_train, y_train)"
   ]
  },
  {
   "cell_type": "code",
   "execution_count": 37,
   "metadata": {},
   "outputs": [
    {
     "name": "stdout",
     "output_type": "stream",
     "text": [
      "The test data MSE is 149.89\n",
      "The test data R-squared is 0.72\n"
     ]
    }
   ],
   "source": [
    "lasso = Lasso(max_iter=10000, normalize=True)\n",
    "lasso.set_params(alpha=lassocv.alpha_)\n",
    "lasso.fit(X_train, y_train)\n",
    "print(\"The test data MSE is %.2f\" % (mean_squared_error(y_test, lasso.predict(X_test))))\n",
    "print(\"The test data R-squared is %.2f\" % (lasso.score(X_test, y_test)))"
   ]
  },
  {
   "cell_type": "code",
   "execution_count": 38,
   "metadata": {},
   "outputs": [
    {
     "data": {
      "text/plain": [
       "Lasso(alpha=0.0047921371130301661, copy_X=True, fit_intercept=True,\n",
       "   max_iter=10000, normalize=True, positive=False, precompute=False,\n",
       "   random_state=None, selection='cyclic', tol=0.0001, warm_start=False)"
      ]
     },
     "execution_count": 38,
     "metadata": {},
     "output_type": "execute_result"
    }
   ],
   "source": [
    "lasso.fit(X, y)"
   ]
  },
  {
   "cell_type": "code",
   "execution_count": 40,
   "metadata": {},
   "outputs": [],
   "source": [
    "#pretty_print_linear(lasso.coef_, list(X.columns), sort = True)"
   ]
  },
  {
   "cell_type": "markdown",
   "metadata": {},
   "source": [
    "$$GFR = $-13.64599 \\times cys + 5.95952 \\times BLACK + -4.30164 \\times SCR +$$\n",
    "\n",
    "$$-3.46714 \\times FEMALE + 2.8663 \\times ALB + 1.59638 \\times PHOS + -0.20604 \\times SUN +$$\n",
    "\n",
    "$$0.12258 \\times HB + 0.0848 \\times UUN + -0.08286 \\times AGE + 0.05791 \\times SODIUM +$$\n",
    "\n",
    "$$-0.01942 \\times HEIGHT + 0.01148 \\times GLUC + 0.00694 \\times BMI + 0.0034 \\times UCRE +$$\n",
    "\n",
    "$$-0.00271 \\times TCHOL + -0.00032 \\times upro + 0.0 \\times WEIGHT + 0.0 \\times MAP +$$\n",
    "\n",
    "$$-0.0 \\times BSA + 0.0 \\times DBP + 0.0 \\times SBP + 0.0 \\times Diabetes$$"
   ]
  },
  {
   "cell_type": "markdown",
   "metadata": {},
   "source": [
    "This is substantially lower than the test set MSE of stepwise regression, and lower than the test set MSE of ridge regression with $\\lambda$ chosen by cross-validation.\n",
    "\n",
    "Also, the lasso has a substantial advantage over ridge regression in that the resulting coefficient estimates are sparse. Here we see that the coefficient estimates of **WEIGHT**, **MAP**, **BSA**, **DBP**, **SBP** and **Diabetes** are exactly zero. The other factors are predictive. This model predicts the data quite well with _MSE = 149.89_ and _R-Squared = 0.72_"
   ]
  }
 ],
 "metadata": {
  "kernelspec": {
   "display_name": "Python 3",
   "language": "python",
   "name": "python3"
  },
  "language_info": {
   "codemirror_mode": {
    "name": "ipython",
    "version": 3
   },
   "file_extension": ".py",
   "mimetype": "text/x-python",
   "name": "python",
   "nbconvert_exporter": "python",
   "pygments_lexer": "ipython3",
   "version": "3.5.2"
  }
 },
 "nbformat": 4,
 "nbformat_minor": 2
}
