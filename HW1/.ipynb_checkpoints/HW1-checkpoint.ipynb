{
 "cells": [
  {
   "cell_type": "markdown",
   "metadata": {},
   "source": [
    "# Homework #1 by Yue Peng"
   ]
  },
  {
   "cell_type": "code",
   "execution_count": 1,
   "metadata": {},
   "outputs": [
    {
     "data": {
      "text/html": [
       "<ol class=list-inline>\n",
       "\t<li>15428</li>\n",
       "\t<li>43</li>\n",
       "</ol>\n"
      ],
      "text/latex": [
       "\\begin{enumerate*}\n",
       "\\item 15428\n",
       "\\item 43\n",
       "\\end{enumerate*}\n"
      ],
      "text/markdown": [
       "1. 15428\n",
       "2. 43\n",
       "\n",
       "\n"
      ],
      "text/plain": [
       "[1] 15428    43"
      ]
     },
     "metadata": {},
     "output_type": "display_data"
    }
   ],
   "source": [
    "# Homework 1 for PHP2550\n",
    "MC_Big <- read.csv(\"mcalindon_Big.csv\")\n",
    "dim(MC_Big)"
   ]
  },
  {
   "cell_type": "code",
   "execution_count": 2,
   "metadata": {},
   "outputs": [
    {
     "data": {
      "text/html": [
       "<ol class=list-inline>\n",
       "\t<li>206</li>\n",
       "\t<li>43</li>\n",
       "</ol>\n"
      ],
      "text/latex": [
       "\\begin{enumerate*}\n",
       "\\item 206\n",
       "\\item 43\n",
       "\\end{enumerate*}\n"
      ],
      "text/markdown": [
       "1. 206\n",
       "2. 43\n",
       "\n",
       "\n"
      ],
      "text/plain": [
       "[1] 206  43"
      ]
     },
     "metadata": {},
     "output_type": "display_data"
    }
   ],
   "source": [
    "# Extract the first observation for each individual\n",
    "num <- rle(MC_Big$ID)\n",
    "index <- c(cumsum(num$lengths) + 1)\n",
    "index <- c(1, index)\n",
    "Big <- MC_Big[index, ]\n",
    "dim(Big)"
   ]
  },
  {
   "cell_type": "markdown",
   "metadata": {},
   "source": [
    "####  a. Summarize the average pain score for each of the 7 days of the study."
   ]
  },
  {
   "cell_type": "code",
   "execution_count": 86,
   "metadata": {},
   "outputs": [],
   "source": [
    "# a \n",
    "ave_pain <- round(colMeans(data.frame(Big$pain.1, Big$pain.2, Big$pain.3, Big$pain.4,\n",
    "     Big$pain.5, Big$pain.6, Big$pain.7), na.rm = TRUE),2)\n",
    "df_a <- data.frame(Day=c(1:7), Pain=ave_pain)\n",
    "colnames(df_a) <- c(\"Day\", \"Pain Score\")\n",
    "rownames(df_a) <- c(1:7)"
   ]
  },
  {
   "cell_type": "code",
   "execution_count": 87,
   "metadata": {},
   "outputs": [
    {
     "data": {
      "text/html": [
       "<table>\n",
       "<thead><tr><th scope=col>Day</th><th scope=col>Pain Score</th></tr></thead>\n",
       "<tbody>\n",
       "\t<tr><td>1   </td><td>8.94</td></tr>\n",
       "\t<tr><td>2   </td><td>7.99</td></tr>\n",
       "\t<tr><td>3   </td><td>7.49</td></tr>\n",
       "\t<tr><td>4   </td><td>7.32</td></tr>\n",
       "\t<tr><td>5   </td><td>6.79</td></tr>\n",
       "\t<tr><td>6   </td><td>7.02</td></tr>\n",
       "\t<tr><td>7   </td><td>6.50</td></tr>\n",
       "</tbody>\n",
       "</table>\n"
      ],
      "text/latex": [
       "\\begin{tabular}{r|ll}\n",
       " Day & Pain Score\\\\\n",
       "\\hline\n",
       "\t 1    & 8.94\\\\\n",
       "\t 2    & 7.99\\\\\n",
       "\t 3    & 7.49\\\\\n",
       "\t 4    & 7.32\\\\\n",
       "\t 5    & 6.79\\\\\n",
       "\t 6    & 7.02\\\\\n",
       "\t 7    & 6.50\\\\\n",
       "\\end{tabular}\n"
      ],
      "text/markdown": [
       "\n",
       "Day | Pain Score | \n",
       "|---|---|---|---|---|---|---|\n",
       "| 1    | 8.94 | \n",
       "| 2    | 7.99 | \n",
       "| 3    | 7.49 | \n",
       "| 4    | 7.32 | \n",
       "| 5    | 6.79 | \n",
       "| 6    | 7.02 | \n",
       "| 7    | 6.50 | \n",
       "\n",
       "\n"
      ],
      "text/plain": [
       "  Day Pain Score\n",
       "1 1   8.94      \n",
       "2 2   7.99      \n",
       "3 3   7.49      \n",
       "4 4   7.32      \n",
       "5 5   6.79      \n",
       "6 6   7.02      \n",
       "7 7   6.50      "
      ]
     },
     "metadata": {},
     "output_type": "display_data"
    }
   ],
   "source": [
    "df_a"
   ]
  },
  {
   "cell_type": "code",
   "execution_count": 4,
   "metadata": {},
   "outputs": [
    {
     "data": {
      "image/png": "[encoded data removed]",
      "text/plain": [
       "plot without title"
      ]
     },
     "metadata": {},
     "output_type": "display_data"
    }
   ],
   "source": [
    "plot(seq(7), ave_pain, xlab = \"Day\", ylab = \"Average Pain Score\")"
   ]
  },
  {
   "cell_type": "markdown",
   "metadata": {},
   "source": [
    "#### b. Regress each pain score on age and use the summary function to create a summary table for each regression Then use the confint function to find the 95% confidence interval for the regression slopes and produce a table with the estimates, standard errors, p-values and confidence intervals of the 7 slopes and put these in a single table."
   ]
  },
  {
   "cell_type": "code",
   "execution_count": 5,
   "metadata": {},
   "outputs": [
    {
     "name": "stdout",
     "output_type": "stream",
     "text": [
      "\n",
      "Call:\n",
      "lm(formula = Big$pain.1 ~ Big$age)\n",
      "\n",
      "Residuals:\n",
      "    Min      1Q  Median      3Q     Max \n",
      "-8.1071 -2.1278  0.1408  2.0168 11.3887 \n",
      "\n",
      "Coefficients:\n",
      "            Estimate Std. Error t value Pr(>|t|)    \n",
      "(Intercept) 10.18148    1.54445   6.592 3.66e-10 ***\n",
      "Big$age     -0.02066    0.02535  -0.815    0.416    \n",
      "---\n",
      "Signif. codes:  0 '***' 0.001 '**' 0.01 '*' 0.05 '.' 0.1 ' ' 1\n",
      "\n",
      "Residual standard error: 3.406 on 203 degrees of freedom\n",
      "  (1 observation deleted due to missingness)\n",
      "Multiple R-squared:  0.003261,\tAdjusted R-squared:  -0.001649 \n",
      "F-statistic: 0.6642 on 1 and 203 DF,  p-value: 0.416\n",
      "\n",
      "\n",
      "Call:\n",
      "lm(formula = Big$pain.2 ~ Big$age)\n",
      "\n",
      "Residuals:\n",
      "    Min      1Q  Median      3Q     Max \n",
      "-7.9802 -2.0812 -0.2833  2.2364 12.4529 \n",
      "\n",
      "Coefficients:\n",
      "            Estimate Std. Error t value Pr(>|t|)    \n",
      "(Intercept)  9.74120    1.85034   5.265 4.59e-07 ***\n",
      "Big$age     -0.02887    0.03012  -0.959    0.339    \n",
      "---\n",
      "Signif. codes:  0 '***' 0.001 '**' 0.01 '*' 0.05 '.' 0.1 ' ' 1\n",
      "\n",
      "Residual standard error: 3.603 on 156 degrees of freedom\n",
      "  (48 observations deleted due to missingness)\n",
      "Multiple R-squared:  0.005856,\tAdjusted R-squared:  -0.000517 \n",
      "F-statistic: 0.9189 on 1 and 156 DF,  p-value: 0.3393\n",
      "\n",
      "\n",
      "Call:\n",
      "lm(formula = Big$pain.3 ~ Big$age)\n",
      "\n",
      "Residuals:\n",
      "    Min      1Q  Median      3Q     Max \n",
      "-7.6946 -2.4095 -0.1244  2.5646 11.2708 \n",
      "\n",
      "Coefficients:\n",
      "            Estimate Std. Error t value Pr(>|t|)    \n",
      "(Intercept)  9.56076    2.04640   4.672 6.46e-06 ***\n",
      "Big$age     -0.03456    0.03378  -1.023    0.308    \n",
      "---\n",
      "Signif. codes:  0 '***' 0.001 '**' 0.01 '*' 0.05 '.' 0.1 ' ' 1\n",
      "\n",
      "Residual standard error: 3.805 on 154 degrees of freedom\n",
      "  (50 observations deleted due to missingness)\n",
      "Multiple R-squared:  0.006751,\tAdjusted R-squared:  0.0003016 \n",
      "F-statistic: 1.047 on 1 and 154 DF,  p-value: 0.3079\n",
      "\n",
      "\n",
      "Call:\n",
      "lm(formula = Big$pain.4 ~ Big$age)\n",
      "\n",
      "Residuals:\n",
      "    Min      1Q  Median      3Q     Max \n",
      "-7.7484 -2.4767 -0.0517  2.7741 11.4746 \n",
      "\n",
      "Coefficients:\n",
      "            Estimate Std. Error t value Pr(>|t|)    \n",
      "(Intercept)  9.00243    1.93074   4.663 6.44e-06 ***\n",
      "Big$age     -0.02787    0.03156  -0.883    0.379    \n",
      "---\n",
      "Signif. codes:  0 '***' 0.001 '**' 0.01 '*' 0.05 '.' 0.1 ' ' 1\n",
      "\n",
      "Residual standard error: 3.797 on 164 degrees of freedom\n",
      "  (40 observations deleted due to missingness)\n",
      "Multiple R-squared:  0.004731,\tAdjusted R-squared:  -0.001338 \n",
      "F-statistic: 0.7795 on 1 and 164 DF,  p-value: 0.3786\n",
      "\n",
      "\n",
      "Call:\n",
      "lm(formula = Big$pain.5 ~ Big$age)\n",
      "\n",
      "Residuals:\n",
      "   Min     1Q Median     3Q    Max \n",
      "-7.109 -2.850 -0.321  2.727 10.948 \n",
      "\n",
      "Coefficients:\n",
      "            Estimate Std. Error t value Pr(>|t|)    \n",
      "(Intercept) 10.22071    1.94014   5.268 4.58e-07 ***\n",
      "Big$age     -0.05762    0.03220  -1.790   0.0755 .  \n",
      "---\n",
      "Signif. codes:  0 '***' 0.001 '**' 0.01 '*' 0.05 '.' 0.1 ' ' 1\n",
      "\n",
      "Residual standard error: 3.674 on 154 degrees of freedom\n",
      "  (50 observations deleted due to missingness)\n",
      "Multiple R-squared:  0.02038,\tAdjusted R-squared:  0.01402 \n",
      "F-statistic: 3.203 on 1 and 154 DF,  p-value: 0.07546\n",
      "\n",
      "\n",
      "Call:\n",
      "lm(formula = Big$pain.6 ~ Big$age)\n",
      "\n",
      "Residuals:\n",
      "    Min      1Q  Median      3Q     Max \n",
      "-6.3490 -3.1335 -0.2341  2.6366 10.7659 \n",
      "\n",
      "Coefficients:\n",
      "            Estimate Std. Error t value Pr(>|t|)    \n",
      "(Intercept)  8.75729    1.96991   4.446 1.68e-05 ***\n",
      "Big$age     -0.02874    0.03226  -0.891    0.374    \n",
      "---\n",
      "Signif. codes:  0 '***' 0.001 '**' 0.01 '*' 0.05 '.' 0.1 ' ' 1\n",
      "\n",
      "Residual standard error: 3.854 on 153 degrees of freedom\n",
      "  (51 observations deleted due to missingness)\n",
      "Multiple R-squared:  0.00516,\tAdjusted R-squared:  -0.001342 \n",
      "F-statistic: 0.7936 on 1 and 153 DF,  p-value: 0.3744\n",
      "\n",
      "\n",
      "Call:\n",
      "lm(formula = Big$pain.7 ~ Big$age)\n",
      "\n",
      "Residuals:\n",
      "    Min      1Q  Median      3Q     Max \n",
      "-6.8762 -3.2389 -0.4889  2.9153 11.1791 \n",
      "\n",
      "Coefficients:\n",
      "            Estimate Std. Error t value Pr(>|t|)    \n",
      "(Intercept)  9.86413    2.23231   4.419 1.96e-05 ***\n",
      "Big$age     -0.05533    0.03630  -1.524     0.13    \n",
      "---\n",
      "Signif. codes:  0 '***' 0.001 '**' 0.01 '*' 0.05 '.' 0.1 ' ' 1\n",
      "\n",
      "Residual standard error: 4.015 on 142 degrees of freedom\n",
      "  (62 observations deleted due to missingness)\n",
      "Multiple R-squared:  0.0161,\tAdjusted R-squared:  0.009169 \n",
      "F-statistic: 2.323 on 1 and 142 DF,  p-value: 0.1297\n",
      "\n"
     ]
    }
   ],
   "source": [
    "model1 <- lm(Big$pain.1~Big$age)\n",
    "print(summary(model1))\n",
    "model2 <- lm(Big$pain.2~Big$age)\n",
    "print(summary(model2))\n",
    "model3 <- lm(Big$pain.3~Big$age)\n",
    "print(summary(model3))\n",
    "model4 <- lm(Big$pain.4~Big$age)\n",
    "print(summary(model4))\n",
    "model5 <- lm(Big$pain.5~Big$age)\n",
    "print(summary(model5))\n",
    "model6 <- lm(Big$pain.6~Big$age)\n",
    "print(summary(model6))\n",
    "model7 <- lm(Big$pain.7~Big$age)\n",
    "print(summary(model7))"
   ]
  },
  {
   "cell_type": "code",
   "execution_count": 6,
   "metadata": {
    "collapsed": true
   },
   "outputs": [],
   "source": [
    "res_confint <- c()\n",
    "get_confint <- function(x){\n",
    "    int_left <- confint(x, level=0.95)[2, 1]\n",
    "    int_right <- confint(x, level=0.95)[2, 2]\n",
    "    res_confint <- c(int_left, int_right)\n",
    "    return(res_confint)\n",
    "}\n",
    "model = list(model1, model2, model3, model4, model5, model6, model7)\n",
    "for (i in model){\n",
    "   res_confint <- c(res_confint,get_confint(i))\n",
    "    \n",
    "}\n"
   ]
  },
  {
   "cell_type": "code",
   "execution_count": 7,
   "metadata": {
    "collapsed": true
   },
   "outputs": [],
   "source": [
    "res_estimate <- c()\n",
    "get_estimate <- function(x){\n",
    "    res <- summary(x)[[4]][2,1]\n",
    "}\n",
    "for (i in model){\n",
    "   res_estimate <- c(res_estimate,get_estimate(i))\n",
    "    \n",
    "}"
   ]
  },
  {
   "cell_type": "code",
   "execution_count": 8,
   "metadata": {
    "collapsed": true
   },
   "outputs": [],
   "source": [
    "res_sd <- c()\n",
    "get_sd <- function(x){\n",
    "    res <- summary(x)[[4]][2,2]\n",
    "}\n",
    "for (i in model){\n",
    "   res_sd <- c(res_sd,get_sd(i))\n",
    "    \n",
    "}"
   ]
  },
  {
   "cell_type": "code",
   "execution_count": 9,
   "metadata": {
    "collapsed": true
   },
   "outputs": [],
   "source": [
    "res_pvalue <- c()\n",
    "get_pvalue <- function(x){\n",
    "    res <- summary(x)[[4]][2,4]\n",
    "}\n",
    "for (i in model){\n",
    "   res_pvalue <- c(res_pvalue,get_pvalue(i))\n",
    "    \n",
    "}"
   ]
  },
  {
   "cell_type": "code",
   "execution_count": 10,
   "metadata": {
    "collapsed": true
   },
   "outputs": [],
   "source": [
    "# reshape and organize\n",
    "res_conf <- c()\n",
    "i = 1\n",
    "while (i <= 13){\n",
    "    res_conf <- c(res_conf, paste0(\"(\",round(res_confint[i], digits = 3),\", \", round(res_confint[i+1], digits = 3), \")\"))\n",
    "    i = i + 2\n",
    "}\n",
    "rm(res_confint)\n",
    "\n",
    "res_estimate <- round(res_estimate, digits = 3)\n",
    "\n",
    "\n",
    "res_sd <- round(res_sd, digits = 3)\n",
    "\n",
    "res_pvalue <- round(res_pvalue, digits = 3)"
   ]
  },
  {
   "cell_type": "code",
   "execution_count": 11,
   "metadata": {
    "collapsed": true
   },
   "outputs": [],
   "source": [
    "# make it a table\n",
    "df_b <- data.frame(estimate=res_estimate, standard_errors=res_sd, p_values=res_pvalue, CI=res_conf) \n",
    "rownames(df_b) <- c(\"pain.1\",\"pain.2\",\"pain.3\",\"pain.4\",\"pain.5\",\"pain.6\",\"pain.7\")\n",
    "colnames(df_b) <- c(\"estimate\", \"standard errors\", \"p-values\", \"95% confidence intervals\")"
   ]
  },
  {
   "cell_type": "code",
   "execution_count": 12,
   "metadata": {},
   "outputs": [
    {
     "data": {
      "text/html": [
       "<table>\n",
       "<thead><tr><th></th><th scope=col>estimate</th><th scope=col>standard errors</th><th scope=col>p-values</th><th scope=col>95% confidence intervals</th></tr></thead>\n",
       "<tbody>\n",
       "\t<tr><th scope=row>pain.1</th><td>-0.021         </td><td>0.025          </td><td>0.416          </td><td>(-0.071, 0.029)</td></tr>\n",
       "\t<tr><th scope=row>pain.2</th><td>-0.029         </td><td>0.030          </td><td>0.339          </td><td>(-0.088, 0.031)</td></tr>\n",
       "\t<tr><th scope=row>pain.3</th><td>-0.035         </td><td>0.034          </td><td>0.308          </td><td>(-0.101, 0.032)</td></tr>\n",
       "\t<tr><th scope=row>pain.4</th><td>-0.028         </td><td>0.032          </td><td>0.379          </td><td>(-0.09, 0.034) </td></tr>\n",
       "\t<tr><th scope=row>pain.5</th><td>-0.058         </td><td>0.032          </td><td>0.075          </td><td>(-0.121, 0.006)</td></tr>\n",
       "\t<tr><th scope=row>pain.6</th><td>-0.029         </td><td>0.032          </td><td>0.374          </td><td>(-0.092, 0.035)</td></tr>\n",
       "\t<tr><th scope=row>pain.7</th><td>-0.055         </td><td>0.036          </td><td>0.130          </td><td>(-0.127, 0.016)</td></tr>\n",
       "</tbody>\n",
       "</table>\n"
      ],
      "text/latex": [
       "\\begin{tabular}{r|llll}\n",
       "  & estimate & standard errors & p-values & 95\\% confidence intervals\\\\\n",
       "\\hline\n",
       "\tpain.1 & -0.021          & 0.025           & 0.416           & (-0.071, 0.029)\\\\\n",
       "\tpain.2 & -0.029          & 0.030           & 0.339           & (-0.088, 0.031)\\\\\n",
       "\tpain.3 & -0.035          & 0.034           & 0.308           & (-0.101, 0.032)\\\\\n",
       "\tpain.4 & -0.028          & 0.032           & 0.379           & (-0.09, 0.034) \\\\\n",
       "\tpain.5 & -0.058          & 0.032           & 0.075           & (-0.121, 0.006)\\\\\n",
       "\tpain.6 & -0.029          & 0.032           & 0.374           & (-0.092, 0.035)\\\\\n",
       "\tpain.7 & -0.055          & 0.036           & 0.130           & (-0.127, 0.016)\\\\\n",
       "\\end{tabular}\n"
      ],
      "text/markdown": [
       "\n",
       "| <!--/--> | estimate | standard errors | p-values | 95% confidence intervals | \n",
       "|---|---|---|---|---|---|---|\n",
       "| pain.1 | -0.021          | 0.025           | 0.416           | (-0.071, 0.029) | \n",
       "| pain.2 | -0.029          | 0.030           | 0.339           | (-0.088, 0.031) | \n",
       "| pain.3 | -0.035          | 0.034           | 0.308           | (-0.101, 0.032) | \n",
       "| pain.4 | -0.028          | 0.032           | 0.379           | (-0.09, 0.034)  | \n",
       "| pain.5 | -0.058          | 0.032           | 0.075           | (-0.121, 0.006) | \n",
       "| pain.6 | -0.029          | 0.032           | 0.374           | (-0.092, 0.035) | \n",
       "| pain.7 | -0.055          | 0.036           | 0.130           | (-0.127, 0.016) | \n",
       "\n",
       "\n"
      ],
      "text/plain": [
       "       estimate standard errors p-values 95% confidence intervals\n",
       "pain.1 -0.021   0.025           0.416    (-0.071, 0.029)         \n",
       "pain.2 -0.029   0.030           0.339    (-0.088, 0.031)         \n",
       "pain.3 -0.035   0.034           0.308    (-0.101, 0.032)         \n",
       "pain.4 -0.028   0.032           0.379    (-0.09, 0.034)          \n",
       "pain.5 -0.058   0.032           0.075    (-0.121, 0.006)         \n",
       "pain.6 -0.029   0.032           0.374    (-0.092, 0.035)         \n",
       "pain.7 -0.055   0.036           0.130    (-0.127, 0.016)         "
      ]
     },
     "metadata": {},
     "output_type": "display_data"
    }
   ],
   "source": [
    "df_b"
   ]
  },
  {
   "cell_type": "markdown",
   "metadata": {},
   "source": [
    "#### c. For each individual fit a regression of pain on time. Summarize the slopes and intercepts produced. "
   ]
  },
  {
   "cell_type": "code",
   "execution_count": 60,
   "metadata": {
    "collapsed": true
   },
   "outputs": [],
   "source": [
    "sub_Big_time <- data.frame(Big$pain.1, Big$pain.2, Big$pain.3, Big$pain.4, Big$pain.5, Big$pain.6, Big$pain.7)\n",
    "# get rid of >= 5 NA and keep at least three point\n",
    "clean_na <- function(x){\n",
    "    if (sum(is.na(x)) >= 5){\n",
    "        return(1)\n",
    "    }else{\n",
    "        return(0)\n",
    "    }\n",
    "}\n",
    "idx1 <- c()\n",
    "for (i in 1:(dim(sub_Big_time)[1])){\n",
    "    if (clean_na(sub_Big_time[i,])){\n",
    "        idx1 <- c(idx1, i)\n",
    "    }\n",
    "} \n"
   ]
  },
  {
   "cell_type": "code",
   "execution_count": 98,
   "metadata": {},
   "outputs": [],
   "source": [
    "# Extract time\n",
    "time <- cbind(Big$lastdt1, Big$lastdt2, Big$lastdt3, Big$lastdt4, Big$lastdt5, Big$lastdt6, Big$lastdt7)[-idx1,]\n",
    "for (i in (1:dim(time)[1])){\n",
    "    time[i,] <- time[i,] - rep(time[i,1],7)\n",
    "}"
   ]
  },
  {
   "cell_type": "code",
   "execution_count": 101,
   "metadata": {},
   "outputs": [
    {
     "name": "stderr",
     "output_type": "stream",
     "text": [
      "Warning message in summary.lm(lm(as.numeric(sub_Big_time[-idx1, ][i, ]) ~ time[i, :\n",
      "\"essentially perfect fit: summary may be unreliable\"Warning message in summary.lm(lm(as.numeric(sub_Big_time[-idx1, ][i, ]) ~ time[i, :\n",
      "\"essentially perfect fit: summary may be unreliable\"Warning message in summary.lm(lm(as.numeric(sub_Big_time[-idx1, ][i, ]) ~ time[i, :\n",
      "\"essentially perfect fit: summary may be unreliable\""
     ]
    }
   ],
   "source": [
    "# make table\n",
    "df_c1 <- c()\n",
    "for (i in 1:(dim(sub_Big_time[-idx1,])[1])){\n",
    "    df_c1<- c(df_c1, summary(lm(as.numeric(sub_Big_time[-idx1,][i,])~time[i,], na.action=na.omit))[[4]][,1])\n",
    "}\n"
   ]
  },
  {
   "cell_type": "code",
   "execution_count": 102,
   "metadata": {},
   "outputs": [],
   "source": [
    "tmp <- df_c1\n",
    "x1 <- tmp[1]\n",
    "x2 <- tmp[2]\n",
    "i = 3\n",
    "while (i <= 386){\n",
    "    x1 <- c(x1, tmp[i])\n",
    "    x2 <- c(x2, tmp[i+1])\n",
    "    i = i + 2\n",
    "}\n",
    "rm(tmp)\n",
    "x1 <- round(x1, digits = 2)\n",
    "x2 <- round(x2, digits = 2)\n",
    "df_c <- data.frame(slopes=x2,intercepts=x1)\n",
    "rownames(df_c) <- as.character(Big$ID[-idx1])"
   ]
  },
  {
   "cell_type": "code",
   "execution_count": 80,
   "metadata": {},
   "outputs": [
    {
     "data": {
      "text/plain": [
       "   Min. 1st Qu.  Median    Mean 3rd Qu.    Max. \n",
       "-2.1500 -0.7800 -0.3600 -0.3761  0.0100  2.0000 "
      ]
     },
     "metadata": {},
     "output_type": "display_data"
    }
   ],
   "source": [
    "summary(df_c$slopes)"
   ]
  },
  {
   "cell_type": "code",
   "execution_count": 105,
   "metadata": {},
   "outputs": [
    {
     "data": {
      "text/plain": [
       "   Min. 1st Qu.  Median    Mean 3rd Qu.    Max. \n",
       "  0.650   6.200   8.520   8.603  10.830  21.290 "
      ]
     },
     "metadata": {},
     "output_type": "display_data"
    }
   ],
   "source": [
    "summary(df_c$intercepts)"
   ]
  },
  {
   "cell_type": "code",
   "execution_count": 103,
   "metadata": {},
   "outputs": [
    {
     "data": {
      "image/png": "[encoded data removed]",
      "text/plain": [
       "Plot with title \"Intercept estimates\""
      ]
     },
     "metadata": {},
     "output_type": "display_data"
    }
   ],
   "source": [
    "hist(df_c$intercepts, breaks = 20, xlab = \"\", main = \"Intercept estimates\")"
   ]
  },
  {
   "cell_type": "code",
   "execution_count": 104,
   "metadata": {},
   "outputs": [
    {
     "data": {
      "image/png": "[encoded data removed]",
      "text/plain": [
       "Plot with title \"Slope estimates\""
      ]
     },
     "metadata": {},
     "output_type": "display_data"
    }
   ],
   "source": [
    "hist(df_c$slopes, breaks = 20, xlab = \"\", main = \"Slope estimates\")"
   ]
  },
  {
   "cell_type": "markdown",
   "metadata": {},
   "source": [
    "#### d. Are the slopes or intercepts related to any of the patient characteristics (age, race, income, treatment, sex,  occupation, working status, use of NSAIDs,)?"
   ]
  },
  {
   "cell_type": "code",
   "execution_count": 106,
   "metadata": {
    "collapsed": true
   },
   "outputs": [],
   "source": [
    "# Race\n",
    "p_race1 <- cor.test(df_c$intercepts, Big$racecat[-idx1])[[3]]\n",
    "p_race2 <- cor.test(df_c$slopes, Big$racecat[-idx1])[[3]]\n",
    "# Age\n",
    "p_age1 <- cor.test(df_c$intercepts, Big$agecat[-idx1])[[3]]\n",
    "p_age2 <- cor.test(df_c$slopes, Big$agecat[-idx1])[[3]]\n",
    "# income\n",
    "p_income1 <- cor.test(df_c$intercepts, Big$inccat[-idx1])[[3]]\n",
    "p_income2 <- cor.test(df_c$slopes, Big$inccat[-idx1])[[3]]\n",
    "# treatment\n",
    "p_trt1 <- cor.test(df_c$intercepts, Big$treat[-idx1])[[3]]\n",
    "p_trt2 <- cor.test(df_c$slopes, Big$treat[-idx1])[[3]]\n",
    "# sex\n",
    "p_sex1 <- cor.test(df_c$intercepts, Big$sex[-idx1])[[3]]\n",
    "p_sex2 <- cor.test(df_c$slopes, Big$sex[-idx1])[[3]]\n",
    "# retire\n",
    "p_retire1 <- cor.test(df_c$intercepts, Big$retire[-idx1])[[3]]\n",
    "p_retire2 <- cor.test(df_c$slopes, Big$retire[-idx1])[[3]]\n",
    "# NSAIDs\n",
    "p_nsaids1 <- cor.test(df_c$intercepts, Big$nsaid[-idx1])[[3]]\n",
    "p_nsaids2 <- cor.test(df_c$slopes, Big$nsaid[-idx1])[[3]]"
   ]
  },
  {
   "cell_type": "code",
   "execution_count": 108,
   "metadata": {},
   "outputs": [],
   "source": [
    "df_d <- data.frame(intercepts=round(c(p_age1, p_race1, p_income1, p_trt1, p_sex1, p_retire1, p_nsaids1), digits = 3),\n",
    "                      slopes=round(c(p_age2, p_race2, p_income2, p_trt2, p_sex2, p_retire2, p_nsaids2), digits = 3),\n",
    "                   related1=c(NA),related2=c(NA))\n",
    "rownames(df_d) <- c(\"Age\", \"Race\", \"Income\", \"Treatment\", \"Sex\", \"Working Status\", \"Use of NSAIDs\")\n"
   ]
  },
  {
   "cell_type": "code",
   "execution_count": 110,
   "metadata": {},
   "outputs": [],
   "source": [
    "related <- function(x){\n",
    "    if (x > 0.05){\n",
    "        return(\"Not related\")\n",
    "    }else{\n",
    "        return(\"Related\")\n",
    "    }\n",
    "}\n",
    "related1 <- c()\n",
    "for (i in 1:7){\n",
    "    related1 <- c(related1, related(df_d$intercepts[i]))\n",
    "}\n",
    "related2 <- c()\n",
    "for (i in 1:7){\n",
    "    related2 <- c(related2, related(df_d$slopes[i]))\n",
    "}\n",
    "df_d$related1 <- related1\n",
    "df_d$related2 <- related2\n",
    "colnames(df_d) <- c(\"P-values of intercepts\", \"P-values of slopes\", \"Related to intercept\", \"Related to slope\")"
   ]
  },
  {
   "cell_type": "code",
   "execution_count": 111,
   "metadata": {},
   "outputs": [
    {
     "data": {
      "text/html": [
       "<table>\n",
       "<thead><tr><th></th><th scope=col>P-values of intercepts</th><th scope=col>P-values of slopes</th><th scope=col>Related to intercept</th><th scope=col>Related to slope</th></tr></thead>\n",
       "<tbody>\n",
       "\t<tr><th scope=row>Age</th><td>0.805      </td><td>0.772      </td><td>Not related</td><td>Not related</td></tr>\n",
       "\t<tr><th scope=row>Race</th><td>0.762      </td><td>0.523      </td><td>Not related</td><td>Not related</td></tr>\n",
       "\t<tr><th scope=row>Income</th><td>0.290      </td><td>0.925      </td><td>Not related</td><td>Not related</td></tr>\n",
       "\t<tr><th scope=row>Treatment</th><td>0.484      </td><td>0.383      </td><td>Not related</td><td>Not related</td></tr>\n",
       "\t<tr><th scope=row>Sex</th><td>0.210      </td><td>0.824      </td><td>Not related</td><td>Not related</td></tr>\n",
       "\t<tr><th scope=row>Working Status</th><td>0.232      </td><td>0.472      </td><td>Not related</td><td>Not related</td></tr>\n",
       "\t<tr><th scope=row>Use of NSAIDs</th><td>0.373      </td><td>0.029      </td><td>Not related</td><td>Related    </td></tr>\n",
       "</tbody>\n",
       "</table>\n"
      ],
      "text/latex": [
       "\\begin{tabular}{r|llll}\n",
       "  & P-values of intercepts & P-values of slopes & Related to intercept & Related to slope\\\\\n",
       "\\hline\n",
       "\tAge & 0.805       & 0.772       & Not related & Not related\\\\\n",
       "\tRace & 0.762       & 0.523       & Not related & Not related\\\\\n",
       "\tIncome & 0.290       & 0.925       & Not related & Not related\\\\\n",
       "\tTreatment & 0.484       & 0.383       & Not related & Not related\\\\\n",
       "\tSex & 0.210       & 0.824       & Not related & Not related\\\\\n",
       "\tWorking Status & 0.232       & 0.472       & Not related & Not related\\\\\n",
       "\tUse of NSAIDs & 0.373       & 0.029       & Not related & Related    \\\\\n",
       "\\end{tabular}\n"
      ],
      "text/markdown": [
       "\n",
       "| <!--/--> | P-values of intercepts | P-values of slopes | Related to intercept | Related to slope | \n",
       "|---|---|---|---|---|---|---|\n",
       "| Age | 0.805       | 0.772       | Not related | Not related | \n",
       "| Race | 0.762       | 0.523       | Not related | Not related | \n",
       "| Income | 0.290       | 0.925       | Not related | Not related | \n",
       "| Treatment | 0.484       | 0.383       | Not related | Not related | \n",
       "| Sex | 0.210       | 0.824       | Not related | Not related | \n",
       "| Working Status | 0.232       | 0.472       | Not related | Not related | \n",
       "| Use of NSAIDs | 0.373       | 0.029       | Not related | Related     | \n",
       "\n",
       "\n"
      ],
      "text/plain": [
       "               P-values of intercepts P-values of slopes Related to intercept\n",
       "Age            0.805                  0.772              Not related         \n",
       "Race           0.762                  0.523              Not related         \n",
       "Income         0.290                  0.925              Not related         \n",
       "Treatment      0.484                  0.383              Not related         \n",
       "Sex            0.210                  0.824              Not related         \n",
       "Working Status 0.232                  0.472              Not related         \n",
       "Use of NSAIDs  0.373                  0.029              Not related         \n",
       "               Related to slope\n",
       "Age            Not related     \n",
       "Race           Not related     \n",
       "Income         Not related     \n",
       "Treatment      Not related     \n",
       "Sex            Not related     \n",
       "Working Status Not related     \n",
       "Use of NSAIDs  Related         "
      ]
     },
     "metadata": {},
     "output_type": "display_data"
    }
   ],
   "source": [
    "df_d"
   ]
  },
  {
   "cell_type": "markdown",
   "metadata": {},
   "source": [
    "####  e. For each individual, compute the correlation between pain scores and average temperature on the dates the pain scores were taken and constuct a graph to display these correlations. Discuss whether pain is correlated with temperature."
   ]
  },
  {
   "cell_type": "code",
   "execution_count": 114,
   "metadata": {
    "collapsed": true
   },
   "outputs": [],
   "source": [
    "# Extract WeatherDate and corresponding avetemp\n",
    "WT <- data.frame(ID=MC_Big$ID, WeatherDate=MC_Big$WeatherDate, avgtemp=MC_Big$avgtemp)\n",
    "find_temp <- function(x, y){\n",
    "    if (is.na(y)){\n",
    "        return(NA)\n",
    "    }else{\n",
    "    return(WT$avgtemp[which(WT$ID==x & WT$WeatherDate==y)])\n",
    "        }\n",
    "}"
   ]
  },
  {
   "cell_type": "code",
   "execution_count": 115,
   "metadata": {
    "collapsed": true
   },
   "outputs": [],
   "source": [
    "# add avetemp for each day into used data\n",
    "Big$temp1 <- mapply(find_temp, Big$ID, Big$lastdt1)\n",
    "Big$temp2 <- mapply(find_temp, Big$ID, Big$lastdt2)\n",
    "Big$temp3 <- mapply(find_temp, Big$ID, Big$lastdt3)\n",
    "Big$temp4 <- mapply(find_temp, Big$ID, Big$lastdt4)\n",
    "Big$temp5 <- mapply(find_temp, Big$ID, Big$lastdt5)\n",
    "Big$temp6 <- mapply(find_temp, Big$ID, Big$lastdt6)\n",
    "Big$temp7 <- mapply(find_temp, Big$ID, Big$lastdt7)"
   ]
  },
  {
   "cell_type": "code",
   "execution_count": 116,
   "metadata": {},
   "outputs": [
    {
     "name": "stderr",
     "output_type": "stream",
     "text": [
      "Warning message in cor(c(Big$pain.1[i], Big$pain.2[i], Big$pain.3[i], Big$pain.4[i], :\n",
      "\"标准差为零\"Warning message in cor(c(Big$pain.1[i], Big$pain.2[i], Big$pain.3[i], Big$pain.4[i], :\n",
      "\"标准差为零\"Warning message in cor(c(Big$pain.1[i], Big$pain.2[i], Big$pain.3[i], Big$pain.4[i], :\n",
      "\"标准差为零\""
     ]
    }
   ],
   "source": [
    "cor_e <- c()\n",
    "for (i in c(1:206)[-idx1]){\n",
    "    cor_e <- c(cor_e, cor(c(Big$pain.1[i], Big$pain.2[i], Big$pain.3[i], Big$pain.4[i], Big$pain.5[i], Big$pain.6[i],\n",
    "              Big$pain.7[i]),\n",
    "            c(Big$temp1[i], Big$temp2[i], Big$temp3[i], Big$temp4[i], Big$temp5[i], Big$temp6[i],\n",
    "              Big$temp7[i]), use=\"na.or.complete\"))\n",
    "}"
   ]
  },
  {
   "cell_type": "code",
   "execution_count": 117,
   "metadata": {},
   "outputs": [],
   "source": [
    "cor_e <- round(cor_e, digits = 3)"
   ]
  },
  {
   "cell_type": "code",
   "execution_count": 118,
   "metadata": {},
   "outputs": [
    {
     "data": {
      "image/png": "[encoded data removed]",
      "text/plain": [
       "Plot with title \"Histogram of Correlation between Pain and Average Temperature\""
      ]
     },
     "metadata": {},
     "output_type": "display_data"
    }
   ],
   "source": [
    "hist(cor_e, breaks=20, xlab = \"Correlation\", main = \"Histogram of Correlation between Pain and Average Temperature\")"
   ]
  },
  {
   "cell_type": "markdown",
   "metadata": {},
   "source": [
    "#### In the paper by Wang et al. (paper #5 in your syllabus), reproduce Table 2 using just the outcome data without trying to fit the mixed model."
   ]
  },
  {
   "cell_type": "code",
   "execution_count": 141,
   "metadata": {},
   "outputs": [
    {
     "data": {
      "text/html": [
       "<ol class=list-inline>\n",
       "\t<li>40</li>\n",
       "\t<li>84</li>\n",
       "</ol>\n"
      ],
      "text/latex": [
       "\\begin{enumerate*}\n",
       "\\item 40\n",
       "\\item 84\n",
       "\\end{enumerate*}\n"
      ],
      "text/markdown": [
       "1. 40\n",
       "2. 84\n",
       "\n",
       "\n"
      ],
      "text/plain": [
       "[1] 40 84"
      ]
     },
     "metadata": {},
     "output_type": "display_data"
    }
   ],
   "source": [
    "Wang <- read.csv(\"Wang.csv\")\n",
    "dim(Wang)"
   ]
  },
  {
   "cell_type": "code",
   "execution_count": 24,
   "metadata": {
    "collapsed": true
   },
   "outputs": [],
   "source": [
    "Wpain_tc1 <- c(lm(Wang$womac.pain.2[Wang$group==1]-Wang$womac.pain.1[Wang$group==1]~1)[[5]][1],\n",
    "             lm(Wang$womac.pain.3[Wang$group==1]-Wang$womac.pain.1[Wang$group==1]~1)[[5]][1],\n",
    "             lm(Wang$womac.pain.4[Wang$group==1]-Wang$womac.pain.1[Wang$group==1]~1)[[5]][1])\n",
    "Wpain_tc2 <- c(confint(lm(Wang$womac.pain.2[Wang$group==1]-Wang$womac.pain.1[Wang$group==1]~1)),\n",
    "              confint(lm(Wang$womac.pain.3[Wang$group==1]-Wang$womac.pain.1[Wang$group==1]~1)),\n",
    "              confint(lm(Wang$womac.pain.4[Wang$group==1]-Wang$womac.pain.1[Wang$group==1]~1)))"
   ]
  },
  {
   "cell_type": "code",
   "execution_count": 145,
   "metadata": {},
   "outputs": [],
   "source": [
    "find_value <- function(var, group, date){\n",
    "    if (group == 3){\n",
    "        return(\n",
    "        paste0(round(lm((Wang[,paste0(var,date)][Wang$group==1]-Wang[,paste0(var,date)][Wang$group==0])-\n",
    "                        (Wang[,paste0(var,\"1\")][Wang$group==1]-Wang[,paste0(var,\"1\")][Wang$group==0])~1)[[5]][1], digits = 2),\n",
    "              \" (\", round(confint(lm((Wang[,paste0(var,date)][Wang$group==1]-Wang[,paste0(var,date)][Wang$group==0])-\n",
    "                        (Wang[,paste0(var,\"1\")][Wang$group==1]-Wang[,paste0(var,\"1\")][Wang$group==0])~1))[1], digits = 2),\n",
    "              \" to \",\n",
    "               round(confint(lm((Wang[,paste0(var,date)][Wang$group==1]-Wang[,paste0(var,date)][Wang$group==0])-\n",
    "                        (Wang[,paste0(var,\"1\")][Wang$group==1]-Wang[,paste0(var,\"1\")][Wang$group==0])~1))[2], digits = 2),\n",
    "              \")\")\n",
    "        )\n",
    "    }else{\n",
    "    return(\n",
    "        paste0(round(lm(Wang[,paste0(var,date)][Wang$group==group]-Wang[,paste0(var,\"1\")][Wang$group==group]~1)[[5]][1], digits = 2),\n",
    "              \" (\", round(confint(lm(Wang[,paste0(var,date)][Wang$group==group]-Wang[,paste0(var,\"1\")][Wang$group==group]~1))[1], digits = 2),\n",
    "              \" to \",\n",
    "               round(confint(lm(Wang[,paste0(var,date)][Wang$group==group]-Wang[,paste0(var,\"1\")][Wang$group==group]~1))[2], digits = 2),\n",
    "              \")\")\n",
    "              )\n",
    "        }\n",
    "}"
   ]
  },
  {
   "cell_type": "code",
   "execution_count": 161,
   "metadata": {
    "collapsed": true
   },
   "outputs": [],
   "source": [
    "find_p <- function(var, date){\n",
    "    return(signif(summary(lm((Wang[,paste0(var,date)][Wang$group==1]-Wang[,paste0(var,date)][Wang$group==0])-\n",
    "                        (Wang[,paste0(var,\"1\")][Wang$group==1]-Wang[,paste0(var,\"1\")][Wang$group==0])~1))$coef[4],digits=2))\n",
    "}"
   ]
  },
  {
   "cell_type": "code",
   "execution_count": 165,
   "metadata": {},
   "outputs": [],
   "source": [
    "var <- c(\"womac.pain.\", \"womac.phys.func.\", \"womac.stiff.\", \"physician.vas.\", \"pt.global.vas.\", \"walkyard.\", \"balance.\",\n",
    "        \"chairstand.\", \"mcs.\", \"pcs.\", \"cesd.\", \"self.efficacy.\")\n",
    "date <- c(\"2\", \"3\", \"4\")\n",
    "group <- c(1, 0, 3)"
   ]
  },
  {
   "cell_type": "code",
   "execution_count": 169,
   "metadata": {},
   "outputs": [],
   "source": [
    "values <- function(x, y){\n",
    "    tmp <- c()\n",
    "for (i in group){\n",
    "    tmp <- c(tmp, mapply(find_value, var[x], i, date[y]))\n",
    " }   \n",
    "    tmp <- c(tmp, find_p(var[x], date[y]))\n",
    "    return(tmp)\n",
    "}"
   ]
  },
  {
   "cell_type": "code",
   "execution_count": 192,
   "metadata": {},
   "outputs": [],
   "source": [
    "df_2 <- rbind(values(1,1), values(1,2), values(1,3))\n",
    "for (i in 2:12){\n",
    " df_2 <- rbind(df_2, rbind(values(i,1), values(i,2), values(i,3)))\n",
    "    }"
   ]
  },
  {
   "cell_type": "code",
   "execution_count": 194,
   "metadata": {},
   "outputs": [
    {
     "data": {
      "text/html": [
       "<ol class=list-inline>\n",
       "\t<li>36</li>\n",
       "\t<li>4</li>\n",
       "</ol>\n"
      ],
      "text/latex": [
       "\\begin{enumerate*}\n",
       "\\item 36\n",
       "\\item 4\n",
       "\\end{enumerate*}\n"
      ],
      "text/markdown": [
       "1. 36\n",
       "2. 4\n",
       "\n",
       "\n"
      ],
      "text/plain": [
       "[1] 36  4"
      ]
     },
     "metadata": {},
     "output_type": "display_data"
    }
   ],
   "source": [
    "dim(df_2)"
   ]
  },
  {
   "cell_type": "code",
   "execution_count": 197,
   "metadata": {
    "collapsed": true
   },
   "outputs": [],
   "source": [
    "table2 <- data.frame(Variable=c(\"WOMAC-Pain, 0-500 mm Week 12\", \"Week 24\", \"Week 48\", \"WOMAC-Physical Function, 0-1700 mm,Week 12\",\n",
    "                                \"Week 24\", \"Week 48\",\n",
    "                                \"WOMAC-Stiffness, 0-200 mm Week 12\", \"Week 24\", \"Week 48\",\n",
    "                               \"Physician, 0-10 cm VAS Week 12\", \"Week 24\", \"Week 48\",\n",
    "                                \"Patient Global, 0-10 cm VAS Week 12\", \"Week 24\", \"Week 48\",\n",
    "                                \"6 Minute Walk Test(yards) Week 12\", \"Week 24\", \"Week 48\",\n",
    "                               \"Balance Score, 0-5 Week 12\", \"Week 24\", \"Week 48\",\n",
    "                                \"Chair Stand Time(seconds) Week 12\", \"Week 24\", \"Week 48\",\n",
    "                                \"SF-36 Mental Component Summary, 0-100 Week 12\", \"Week 24\", \"Week 48\",\n",
    "                               \"SF-36 Physical Component Summary, 0-100 Week 12\", \"Week 24\", \"Week 48\",\n",
    "                                \"CES-D, 0-60 Week 12\", \"Week 24\", \"Week 48\",\n",
    "                                \"Self-Efficacy Score, 1-5 Week 12\", \"Week 24\", \"Week 48\"),\n",
    "                    Taichi=df_2[,1], Control=df_2[,2], TvsC=df_2[,3], pvalue=df_2[,4])"
   ]
  },
  {
   "cell_type": "code",
   "execution_count": 198,
   "metadata": {},
   "outputs": [
    {
     "data": {
      "text/html": [
       "<table>\n",
       "<thead><tr><th scope=col>Variable</th><th scope=col>Taichi</th><th scope=col>Control</th><th scope=col>TvsC</th><th scope=col>pvalue</th></tr></thead>\n",
       "<tbody>\n",
       "\t<tr><td>WOMAC-Pain, 0-500 mm Week 12                   </td><td>-157.25 (-198.51 to -115.99)                   </td><td>-38.45 (-87.18 to 10.28)                       </td><td>-118.8 (-180.77 to -56.83)                     </td><td>7e-04                                          </td></tr>\n",
       "\t<tr><td>Week 24                                        </td><td>-131.55 (-179.63 to -83.47)                    </td><td>-64.6 (-116.08 to -13.12)                      </td><td>-66.95 (-129.89 to -4.01)                      </td><td>0.04                                           </td></tr>\n",
       "\t<tr><td>Week 48                                        </td><td>-115.35 (-172.19 to -58.51)                    </td><td>-69.2 (-126.53 to -11.87)                      </td><td>-46.15 (-126.44 to 34.14)                      </td><td>0.2                                            </td></tr>\n",
       "\t<tr><td>WOMAC-Physical Function, 0-1700 mm,Week 12     </td><td>-506.75 (-635.52 to -377.98)                   </td><td>-182.15 (-321.8 to -42.5)                      </td><td>-324.6 (-490.76 to -158.44)                    </td><td>6e-04                                          </td></tr>\n",
       "\t<tr><td>Week 24                                        </td><td>-440.5 (-582.58 to -298.42)                    </td><td>-257.3 (-408.63 to -105.97)                    </td><td>-183.2 (-363.18 to -3.22)                      </td><td>0.05                                           </td></tr>\n",
       "\t<tr><td>Week 48                                        </td><td>-405.85 (-577.68 to -234.02)                   </td><td>-300.55 (-452.98 to -148.12)                   </td><td>-105.3 (-296.03 to 85.43)                      </td><td>0.3                                            </td></tr>\n",
       "\t<tr><td>WOMAC-Stiffness, 0-200 mm Week 12              </td><td>-73.05 (-90.49 to -55.61)                      </td><td>-50.15 (-75.84 to -24.46)                      </td><td>-22.9 (-48.18 to 2.38)                         </td><td>0.07                                           </td></tr>\n",
       "\t<tr><td>Week 24                                        </td><td>-65 (-87.16 to -42.84)                         </td><td>-50.2 (-72.99 to -27.41)                       </td><td>-14.8 (-43.12 to 13.52)                        </td><td>0.3                                            </td></tr>\n",
       "\t<tr><td>Week 48                                        </td><td>-64.15 (-86.18 to -42.12)                      </td><td>-60.5 (-88.89 to -32.11)                       </td><td>-3.65 (-40.03 to 32.73)                        </td><td>0.8                                            </td></tr>\n",
       "\t<tr><td>Physician, 0-10 cm VAS Week 12                 </td><td>-3.15 (-3.88 to -2.41)                         </td><td>-1.44 (-2.1 to -0.78)                          </td><td>-1.71 (-2.73 to -0.68)                         </td><td>0.003                                          </td></tr>\n",
       "\t<tr><td>Week 24                                        </td><td>-2.6 (-3.37 to -1.82)                          </td><td>-2.06 (-2.95 to -1.17)                         </td><td>-0.53 (-1.65 to 0.58)                          </td><td>0.3                                            </td></tr>\n",
       "\t<tr><td>Week 48                                        </td><td>-2.54 (-3.62 to -1.45)                         </td><td>-1.54 (-2.25 to -0.83)                         </td><td>-0.98 (-2.19 to 0.22)                          </td><td>0.1                                            </td></tr>\n",
       "\t<tr><td>Patient Global, 0-10 cm VAS Week 12            </td><td>-2.98 (-3.94 to -2.02)                         </td><td>-0.83 (-1.86 to 0.21)                          </td><td>-2.15 (-3.47 to -0.83)                         </td><td>0.003                                          </td></tr>\n",
       "\t<tr><td>Week 24                                        </td><td>-2.36 (-3.63 to -1.09)                         </td><td>-1.71 (-2.98 to -0.44)                         </td><td>-0.65 (-2.23 to 0.93)                          </td><td>0.4                                            </td></tr>\n",
       "\t<tr><td>Week 48                                        </td><td>-1.65 (-3.4 to 0.09)                           </td><td>-1.7 (-3.15 to -0.24)                          </td><td>0.04 (-2.17 to 2.25)                           </td><td>1                                              </td></tr>\n",
       "\t<tr><td>6 Minute Walk Test(yards) Week 12              </td><td>40.28 (9.3 to 71.27)                           </td><td>-1.42 (-42.17 to 39.33)                        </td><td>41.12 (-18.33 to 100.57)                       </td><td>0.2                                            </td></tr>\n",
       "\t<tr><td>Week 24                                        </td><td>44.28 (8.36 to 80.19)                          </td><td>7.84 (-27.9 to 43.58)                          </td><td>36 (-22.87 to 94.87)                           </td><td>0.2                                            </td></tr>\n",
       "\t<tr><td>Week 48                                        </td><td>28.75 (-12.45 to 69.94)                        </td><td>17.14 (-17.27 to 51.55)                        </td><td>4.73 (-56.23 to 65.68)                         </td><td>0.9                                            </td></tr>\n",
       "\t<tr><td>Balance Score, 0-5 Week 12                     </td><td>0.15 (-0.08 to 0.38)                           </td><td>0.25 (-0.05 to 0.55)                           </td><td>-0.1 (-0.53 to 0.33)                           </td><td>0.6                                            </td></tr>\n",
       "\t<tr><td>Week 24                                        </td><td>0.15 (-0.16 to 0.46)                           </td><td>0.07 (-0.37 to 0.52)                           </td><td>0.07 (-0.52 to 0.67)                           </td><td>0.8                                            </td></tr>\n",
       "\t<tr><td>Week 48                                        </td><td>0.35 (0.04 to 0.66)                            </td><td>0.47 (0.07 to 0.88)                            </td><td>-0.16 (-0.72 to 0.4)                           </td><td>0.6                                            </td></tr>\n",
       "\t<tr><td>Chair Stand Time(seconds) Week 12              </td><td>-12.03 (-16.68 to -7.39)                       </td><td>-0.94 (-4.84 to 2.97)                          </td><td>-11.1 (-16.64 to -5.56)                        </td><td>5e-04                                          </td></tr>\n",
       "\t<tr><td>Week 24                                        </td><td>-9.88 (-14.08 to -5.67)                        </td><td>-4.81 (-9.28 to -0.33)                         </td><td>-5.07 (-10.9 to 0.77)                          </td><td>0.08                                           </td></tr>\n",
       "\t<tr><td>Week 48                                        </td><td>-9.23 (-14.62 to -3.83)                        </td><td>-3.8 (-8.01 to 0.41)                           </td><td>-4 (-9.49 to 1.48)                             </td><td>0.1                                            </td></tr>\n",
       "\t<tr><td>SF-36 Mental Component Summary, 0-100 Week 12  </td><td>2.14 (-4.02 to 8.31)                           </td><td>1.93 (-2.62 to 6.49)                           </td><td>0.21 (-7.12 to 7.54)                           </td><td>1                                              </td></tr>\n",
       "\t<tr><td>Week 24                                        </td><td>4.39 (-2.06 to 10.84)                          </td><td>4.5 (0.87 to 8.13)                             </td><td>-0.11 (-7.57 to 7.35)                          </td><td>1                                              </td></tr>\n",
       "\t<tr><td>Week 48                                        </td><td>5.8 (-0.46 to 12.07)                           </td><td>1.04 (-5.07 to 7.14)                           </td><td>4.77 (-5.03 to 14.57)                          </td><td>0.3                                            </td></tr>\n",
       "\t<tr><td>SF-36 Physical Component Summary, 0-100 Week 12</td><td>11.57 (7.61 to 15.53)                          </td><td>4.14 (0.68 to 7.6)                             </td><td>7.43 (1.75 to 13.11)                           </td><td>0.01                                           </td></tr>\n",
       "\t<tr><td>Week 24                                        </td><td>10.8 (6.69 to 14.91)                           </td><td>6.29 (1.98 to 10.59)                           </td><td>4.51 (-2.35 to 11.37)                          </td><td>0.2                                            </td></tr>\n",
       "\t<tr><td>Week 48                                        </td><td>10.41 (5.64 to 15.18)                          </td><td>4.1 (0 to 8.2)                                 </td><td>6.32 (-0.45 to 13.08)                          </td><td>0.07                                           </td></tr>\n",
       "\t<tr><td>CES-D, 0-60 Week 12                            </td><td>-7.4 (-11.38 to -3.42)                         </td><td>-0.7 (-3.88 to 2.48)                           </td><td>-6.7 (-12 to -1.4)                             </td><td>0.02                                           </td></tr>\n",
       "\t<tr><td>Week 24                                        </td><td>-6.4 (-11.39 to -1.41)                         </td><td>-1.1 (-5.04 to 2.84)                           </td><td>-5.3 (-11.52 to 0.92)                          </td><td>0.09                                           </td></tr>\n",
       "\t<tr><td>Week 48                                        </td><td>-7.25 (-11.77 to -2.73)                        </td><td>1.65 (-2.39 to 5.69)                           </td><td>-8.9 (-14.92 to -2.88)                         </td><td>0.006                                          </td></tr>\n",
       "\t<tr><td>Self-Efficacy Score, 1-5 Week 12               </td><td>0.6 (-0.01 to 1.21)                            </td><td>-0.11 (-0.53 to 0.31)                          </td><td>0.71 (-0.06 to 1.48)                           </td><td>0.07                                           </td></tr>\n",
       "\t<tr><td>Week 24                                        </td><td>0.68 (0.13 to 1.23)                            </td><td>-0.17 (-0.69 to 0.35)                          </td><td>0.85 (0.08 to 1.62)                            </td><td>0.03                                           </td></tr>\n",
       "\t<tr><td>Week 48                                        </td><td>0.72 (0 to 1.44)                               </td><td>-0.24 (-0.65 to 0.17)                          </td><td>0.96 (0.18 to 1.74)                            </td><td>0.02                                           </td></tr>\n",
       "</tbody>\n",
       "</table>\n"
      ],
      "text/latex": [
       "\\begin{tabular}{r|lllll}\n",
       " Variable & Taichi & Control & TvsC & pvalue\\\\\n",
       "\\hline\n",
       "\t WOMAC-Pain, 0-500 mm Week 12                    & -157.25 (-198.51 to -115.99)                    & -38.45 (-87.18 to 10.28)                        & -118.8 (-180.77 to -56.83)                      & 7e-04                                          \\\\\n",
       "\t Week 24                                         & -131.55 (-179.63 to -83.47)                     & -64.6 (-116.08 to -13.12)                       & -66.95 (-129.89 to -4.01)                       & 0.04                                           \\\\\n",
       "\t Week 48                                         & -115.35 (-172.19 to -58.51)                     & -69.2 (-126.53 to -11.87)                       & -46.15 (-126.44 to 34.14)                       & 0.2                                            \\\\\n",
       "\t WOMAC-Physical Function, 0-1700 mm,Week 12      & -506.75 (-635.52 to -377.98)                    & -182.15 (-321.8 to -42.5)                       & -324.6 (-490.76 to -158.44)                     & 6e-04                                          \\\\\n",
       "\t Week 24                                         & -440.5 (-582.58 to -298.42)                     & -257.3 (-408.63 to -105.97)                     & -183.2 (-363.18 to -3.22)                       & 0.05                                           \\\\\n",
       "\t Week 48                                         & -405.85 (-577.68 to -234.02)                    & -300.55 (-452.98 to -148.12)                    & -105.3 (-296.03 to 85.43)                       & 0.3                                            \\\\\n",
       "\t WOMAC-Stiffness, 0-200 mm Week 12               & -73.05 (-90.49 to -55.61)                       & -50.15 (-75.84 to -24.46)                       & -22.9 (-48.18 to 2.38)                          & 0.07                                           \\\\\n",
       "\t Week 24                                         & -65 (-87.16 to -42.84)                          & -50.2 (-72.99 to -27.41)                        & -14.8 (-43.12 to 13.52)                         & 0.3                                            \\\\\n",
       "\t Week 48                                         & -64.15 (-86.18 to -42.12)                       & -60.5 (-88.89 to -32.11)                        & -3.65 (-40.03 to 32.73)                         & 0.8                                            \\\\\n",
       "\t Physician, 0-10 cm VAS Week 12                  & -3.15 (-3.88 to -2.41)                          & -1.44 (-2.1 to -0.78)                           & -1.71 (-2.73 to -0.68)                          & 0.003                                          \\\\\n",
       "\t Week 24                                         & -2.6 (-3.37 to -1.82)                           & -2.06 (-2.95 to -1.17)                          & -0.53 (-1.65 to 0.58)                           & 0.3                                            \\\\\n",
       "\t Week 48                                         & -2.54 (-3.62 to -1.45)                          & -1.54 (-2.25 to -0.83)                          & -0.98 (-2.19 to 0.22)                           & 0.1                                            \\\\\n",
       "\t Patient Global, 0-10 cm VAS Week 12             & -2.98 (-3.94 to -2.02)                          & -0.83 (-1.86 to 0.21)                           & -2.15 (-3.47 to -0.83)                          & 0.003                                          \\\\\n",
       "\t Week 24                                         & -2.36 (-3.63 to -1.09)                          & -1.71 (-2.98 to -0.44)                          & -0.65 (-2.23 to 0.93)                           & 0.4                                            \\\\\n",
       "\t Week 48                                         & -1.65 (-3.4 to 0.09)                            & -1.7 (-3.15 to -0.24)                           & 0.04 (-2.17 to 2.25)                            & 1                                              \\\\\n",
       "\t 6 Minute Walk Test(yards) Week 12               & 40.28 (9.3 to 71.27)                            & -1.42 (-42.17 to 39.33)                         & 41.12 (-18.33 to 100.57)                        & 0.2                                            \\\\\n",
       "\t Week 24                                         & 44.28 (8.36 to 80.19)                           & 7.84 (-27.9 to 43.58)                           & 36 (-22.87 to 94.87)                            & 0.2                                            \\\\\n",
       "\t Week 48                                         & 28.75 (-12.45 to 69.94)                         & 17.14 (-17.27 to 51.55)                         & 4.73 (-56.23 to 65.68)                          & 0.9                                            \\\\\n",
       "\t Balance Score, 0-5 Week 12                      & 0.15 (-0.08 to 0.38)                            & 0.25 (-0.05 to 0.55)                            & -0.1 (-0.53 to 0.33)                            & 0.6                                            \\\\\n",
       "\t Week 24                                         & 0.15 (-0.16 to 0.46)                            & 0.07 (-0.37 to 0.52)                            & 0.07 (-0.52 to 0.67)                            & 0.8                                            \\\\\n",
       "\t Week 48                                         & 0.35 (0.04 to 0.66)                             & 0.47 (0.07 to 0.88)                             & -0.16 (-0.72 to 0.4)                            & 0.6                                            \\\\\n",
       "\t Chair Stand Time(seconds) Week 12               & -12.03 (-16.68 to -7.39)                        & -0.94 (-4.84 to 2.97)                           & -11.1 (-16.64 to -5.56)                         & 5e-04                                          \\\\\n",
       "\t Week 24                                         & -9.88 (-14.08 to -5.67)                         & -4.81 (-9.28 to -0.33)                          & -5.07 (-10.9 to 0.77)                           & 0.08                                           \\\\\n",
       "\t Week 48                                         & -9.23 (-14.62 to -3.83)                         & -3.8 (-8.01 to 0.41)                            & -4 (-9.49 to 1.48)                              & 0.1                                            \\\\\n",
       "\t SF-36 Mental Component Summary, 0-100 Week 12   & 2.14 (-4.02 to 8.31)                            & 1.93 (-2.62 to 6.49)                            & 0.21 (-7.12 to 7.54)                            & 1                                              \\\\\n",
       "\t Week 24                                         & 4.39 (-2.06 to 10.84)                           & 4.5 (0.87 to 8.13)                              & -0.11 (-7.57 to 7.35)                           & 1                                              \\\\\n",
       "\t Week 48                                         & 5.8 (-0.46 to 12.07)                            & 1.04 (-5.07 to 7.14)                            & 4.77 (-5.03 to 14.57)                           & 0.3                                            \\\\\n",
       "\t SF-36 Physical Component Summary, 0-100 Week 12 & 11.57 (7.61 to 15.53)                           & 4.14 (0.68 to 7.6)                              & 7.43 (1.75 to 13.11)                            & 0.01                                           \\\\\n",
       "\t Week 24                                         & 10.8 (6.69 to 14.91)                            & 6.29 (1.98 to 10.59)                            & 4.51 (-2.35 to 11.37)                           & 0.2                                            \\\\\n",
       "\t Week 48                                         & 10.41 (5.64 to 15.18)                           & 4.1 (0 to 8.2)                                  & 6.32 (-0.45 to 13.08)                           & 0.07                                           \\\\\n",
       "\t CES-D, 0-60 Week 12                             & -7.4 (-11.38 to -3.42)                          & -0.7 (-3.88 to 2.48)                            & -6.7 (-12 to -1.4)                              & 0.02                                           \\\\\n",
       "\t Week 24                                         & -6.4 (-11.39 to -1.41)                          & -1.1 (-5.04 to 2.84)                            & -5.3 (-11.52 to 0.92)                           & 0.09                                           \\\\\n",
       "\t Week 48                                         & -7.25 (-11.77 to -2.73)                         & 1.65 (-2.39 to 5.69)                            & -8.9 (-14.92 to -2.88)                          & 0.006                                          \\\\\n",
       "\t Self-Efficacy Score, 1-5 Week 12                & 0.6 (-0.01 to 1.21)                             & -0.11 (-0.53 to 0.31)                           & 0.71 (-0.06 to 1.48)                            & 0.07                                           \\\\\n",
       "\t Week 24                                         & 0.68 (0.13 to 1.23)                             & -0.17 (-0.69 to 0.35)                           & 0.85 (0.08 to 1.62)                             & 0.03                                           \\\\\n",
       "\t Week 48                                         & 0.72 (0 to 1.44)                                & -0.24 (-0.65 to 0.17)                           & 0.96 (0.18 to 1.74)                             & 0.02                                           \\\\\n",
       "\\end{tabular}\n"
      ],
      "text/markdown": [
       "\n",
       "Variable | Taichi | Control | TvsC | pvalue | \n",
       "|---|---|---|---|---|---|---|---|---|---|---|---|---|---|---|---|---|---|---|---|---|---|---|---|---|---|---|---|---|---|---|---|---|---|---|---|\n",
       "| WOMAC-Pain, 0-500 mm Week 12                    | -157.25 (-198.51 to -115.99)                    | -38.45 (-87.18 to 10.28)                        | -118.8 (-180.77 to -56.83)                      | 7e-04                                           | \n",
       "| Week 24                                         | -131.55 (-179.63 to -83.47)                     | -64.6 (-116.08 to -13.12)                       | -66.95 (-129.89 to -4.01)                       | 0.04                                            | \n",
       "| Week 48                                         | -115.35 (-172.19 to -58.51)                     | -69.2 (-126.53 to -11.87)                       | -46.15 (-126.44 to 34.14)                       | 0.2                                             | \n",
       "| WOMAC-Physical Function, 0-1700 mm,Week 12      | -506.75 (-635.52 to -377.98)                    | -182.15 (-321.8 to -42.5)                       | -324.6 (-490.76 to -158.44)                     | 6e-04                                           | \n",
       "| Week 24                                         | -440.5 (-582.58 to -298.42)                     | -257.3 (-408.63 to -105.97)                     | -183.2 (-363.18 to -3.22)                       | 0.05                                            | \n",
       "| Week 48                                         | -405.85 (-577.68 to -234.02)                    | -300.55 (-452.98 to -148.12)                    | -105.3 (-296.03 to 85.43)                       | 0.3                                             | \n",
       "| WOMAC-Stiffness, 0-200 mm Week 12               | -73.05 (-90.49 to -55.61)                       | -50.15 (-75.84 to -24.46)                       | -22.9 (-48.18 to 2.38)                          | 0.07                                            | \n",
       "| Week 24                                         | -65 (-87.16 to -42.84)                          | -50.2 (-72.99 to -27.41)                        | -14.8 (-43.12 to 13.52)                         | 0.3                                             | \n",
       "| Week 48                                         | -64.15 (-86.18 to -42.12)                       | -60.5 (-88.89 to -32.11)                        | -3.65 (-40.03 to 32.73)                         | 0.8                                             | \n",
       "| Physician, 0-10 cm VAS Week 12                  | -3.15 (-3.88 to -2.41)                          | -1.44 (-2.1 to -0.78)                           | -1.71 (-2.73 to -0.68)                          | 0.003                                           | \n",
       "| Week 24                                         | -2.6 (-3.37 to -1.82)                           | -2.06 (-2.95 to -1.17)                          | -0.53 (-1.65 to 0.58)                           | 0.3                                             | \n",
       "| Week 48                                         | -2.54 (-3.62 to -1.45)                          | -1.54 (-2.25 to -0.83)                          | -0.98 (-2.19 to 0.22)                           | 0.1                                             | \n",
       "| Patient Global, 0-10 cm VAS Week 12             | -2.98 (-3.94 to -2.02)                          | -0.83 (-1.86 to 0.21)                           | -2.15 (-3.47 to -0.83)                          | 0.003                                           | \n",
       "| Week 24                                         | -2.36 (-3.63 to -1.09)                          | -1.71 (-2.98 to -0.44)                          | -0.65 (-2.23 to 0.93)                           | 0.4                                             | \n",
       "| Week 48                                         | -1.65 (-3.4 to 0.09)                            | -1.7 (-3.15 to -0.24)                           | 0.04 (-2.17 to 2.25)                            | 1                                               | \n",
       "| 6 Minute Walk Test(yards) Week 12               | 40.28 (9.3 to 71.27)                            | -1.42 (-42.17 to 39.33)                         | 41.12 (-18.33 to 100.57)                        | 0.2                                             | \n",
       "| Week 24                                         | 44.28 (8.36 to 80.19)                           | 7.84 (-27.9 to 43.58)                           | 36 (-22.87 to 94.87)                            | 0.2                                             | \n",
       "| Week 48                                         | 28.75 (-12.45 to 69.94)                         | 17.14 (-17.27 to 51.55)                         | 4.73 (-56.23 to 65.68)                          | 0.9                                             | \n",
       "| Balance Score, 0-5 Week 12                      | 0.15 (-0.08 to 0.38)                            | 0.25 (-0.05 to 0.55)                            | -0.1 (-0.53 to 0.33)                            | 0.6                                             | \n",
       "| Week 24                                         | 0.15 (-0.16 to 0.46)                            | 0.07 (-0.37 to 0.52)                            | 0.07 (-0.52 to 0.67)                            | 0.8                                             | \n",
       "| Week 48                                         | 0.35 (0.04 to 0.66)                             | 0.47 (0.07 to 0.88)                             | -0.16 (-0.72 to 0.4)                            | 0.6                                             | \n",
       "| Chair Stand Time(seconds) Week 12               | -12.03 (-16.68 to -7.39)                        | -0.94 (-4.84 to 2.97)                           | -11.1 (-16.64 to -5.56)                         | 5e-04                                           | \n",
       "| Week 24                                         | -9.88 (-14.08 to -5.67)                         | -4.81 (-9.28 to -0.33)                          | -5.07 (-10.9 to 0.77)                           | 0.08                                            | \n",
       "| Week 48                                         | -9.23 (-14.62 to -3.83)                         | -3.8 (-8.01 to 0.41)                            | -4 (-9.49 to 1.48)                              | 0.1                                             | \n",
       "| SF-36 Mental Component Summary, 0-100 Week 12   | 2.14 (-4.02 to 8.31)                            | 1.93 (-2.62 to 6.49)                            | 0.21 (-7.12 to 7.54)                            | 1                                               | \n",
       "| Week 24                                         | 4.39 (-2.06 to 10.84)                           | 4.5 (0.87 to 8.13)                              | -0.11 (-7.57 to 7.35)                           | 1                                               | \n",
       "| Week 48                                         | 5.8 (-0.46 to 12.07)                            | 1.04 (-5.07 to 7.14)                            | 4.77 (-5.03 to 14.57)                           | 0.3                                             | \n",
       "| SF-36 Physical Component Summary, 0-100 Week 12 | 11.57 (7.61 to 15.53)                           | 4.14 (0.68 to 7.6)                              | 7.43 (1.75 to 13.11)                            | 0.01                                            | \n",
       "| Week 24                                         | 10.8 (6.69 to 14.91)                            | 6.29 (1.98 to 10.59)                            | 4.51 (-2.35 to 11.37)                           | 0.2                                             | \n",
       "| Week 48                                         | 10.41 (5.64 to 15.18)                           | 4.1 (0 to 8.2)                                  | 6.32 (-0.45 to 13.08)                           | 0.07                                            | \n",
       "| CES-D, 0-60 Week 12                             | -7.4 (-11.38 to -3.42)                          | -0.7 (-3.88 to 2.48)                            | -6.7 (-12 to -1.4)                              | 0.02                                            | \n",
       "| Week 24                                         | -6.4 (-11.39 to -1.41)                          | -1.1 (-5.04 to 2.84)                            | -5.3 (-11.52 to 0.92)                           | 0.09                                            | \n",
       "| Week 48                                         | -7.25 (-11.77 to -2.73)                         | 1.65 (-2.39 to 5.69)                            | -8.9 (-14.92 to -2.88)                          | 0.006                                           | \n",
       "| Self-Efficacy Score, 1-5 Week 12                | 0.6 (-0.01 to 1.21)                             | -0.11 (-0.53 to 0.31)                           | 0.71 (-0.06 to 1.48)                            | 0.07                                            | \n",
       "| Week 24                                         | 0.68 (0.13 to 1.23)                             | -0.17 (-0.69 to 0.35)                           | 0.85 (0.08 to 1.62)                             | 0.03                                            | \n",
       "| Week 48                                         | 0.72 (0 to 1.44)                                | -0.24 (-0.65 to 0.17)                           | 0.96 (0.18 to 1.74)                             | 0.02                                            | \n",
       "\n",
       "\n"
      ],
      "text/plain": [
       "   Variable                                        Taichi                      \n",
       "1  WOMAC-Pain, 0-500 mm Week 12                    -157.25 (-198.51 to -115.99)\n",
       "2  Week 24                                         -131.55 (-179.63 to -83.47) \n",
       "3  Week 48                                         -115.35 (-172.19 to -58.51) \n",
       "4  WOMAC-Physical Function, 0-1700 mm,Week 12      -506.75 (-635.52 to -377.98)\n",
       "5  Week 24                                         -440.5 (-582.58 to -298.42) \n",
       "6  Week 48                                         -405.85 (-577.68 to -234.02)\n",
       "7  WOMAC-Stiffness, 0-200 mm Week 12               -73.05 (-90.49 to -55.61)   \n",
       "8  Week 24                                         -65 (-87.16 to -42.84)      \n",
       "9  Week 48                                         -64.15 (-86.18 to -42.12)   \n",
       "10 Physician, 0-10 cm VAS Week 12                  -3.15 (-3.88 to -2.41)      \n",
       "11 Week 24                                         -2.6 (-3.37 to -1.82)       \n",
       "12 Week 48                                         -2.54 (-3.62 to -1.45)      \n",
       "13 Patient Global, 0-10 cm VAS Week 12             -2.98 (-3.94 to -2.02)      \n",
       "14 Week 24                                         -2.36 (-3.63 to -1.09)      \n",
       "15 Week 48                                         -1.65 (-3.4 to 0.09)        \n",
       "16 6 Minute Walk Test(yards) Week 12               40.28 (9.3 to 71.27)        \n",
       "17 Week 24                                         44.28 (8.36 to 80.19)       \n",
       "18 Week 48                                         28.75 (-12.45 to 69.94)     \n",
       "19 Balance Score, 0-5 Week 12                      0.15 (-0.08 to 0.38)        \n",
       "20 Week 24                                         0.15 (-0.16 to 0.46)        \n",
       "21 Week 48                                         0.35 (0.04 to 0.66)         \n",
       "22 Chair Stand Time(seconds) Week 12               -12.03 (-16.68 to -7.39)    \n",
       "23 Week 24                                         -9.88 (-14.08 to -5.67)     \n",
       "24 Week 48                                         -9.23 (-14.62 to -3.83)     \n",
       "25 SF-36 Mental Component Summary, 0-100 Week 12   2.14 (-4.02 to 8.31)        \n",
       "26 Week 24                                         4.39 (-2.06 to 10.84)       \n",
       "27 Week 48                                         5.8 (-0.46 to 12.07)        \n",
       "28 SF-36 Physical Component Summary, 0-100 Week 12 11.57 (7.61 to 15.53)       \n",
       "29 Week 24                                         10.8 (6.69 to 14.91)        \n",
       "30 Week 48                                         10.41 (5.64 to 15.18)       \n",
       "31 CES-D, 0-60 Week 12                             -7.4 (-11.38 to -3.42)      \n",
       "32 Week 24                                         -6.4 (-11.39 to -1.41)      \n",
       "33 Week 48                                         -7.25 (-11.77 to -2.73)     \n",
       "34 Self-Efficacy Score, 1-5 Week 12                0.6 (-0.01 to 1.21)         \n",
       "35 Week 24                                         0.68 (0.13 to 1.23)         \n",
       "36 Week 48                                         0.72 (0 to 1.44)            \n",
       "   Control                      TvsC                        pvalue\n",
       "1  -38.45 (-87.18 to 10.28)     -118.8 (-180.77 to -56.83)  7e-04 \n",
       "2  -64.6 (-116.08 to -13.12)    -66.95 (-129.89 to -4.01)   0.04  \n",
       "3  -69.2 (-126.53 to -11.87)    -46.15 (-126.44 to 34.14)   0.2   \n",
       "4  -182.15 (-321.8 to -42.5)    -324.6 (-490.76 to -158.44) 6e-04 \n",
       "5  -257.3 (-408.63 to -105.97)  -183.2 (-363.18 to -3.22)   0.05  \n",
       "6  -300.55 (-452.98 to -148.12) -105.3 (-296.03 to 85.43)   0.3   \n",
       "7  -50.15 (-75.84 to -24.46)    -22.9 (-48.18 to 2.38)      0.07  \n",
       "8  -50.2 (-72.99 to -27.41)     -14.8 (-43.12 to 13.52)     0.3   \n",
       "9  -60.5 (-88.89 to -32.11)     -3.65 (-40.03 to 32.73)     0.8   \n",
       "10 -1.44 (-2.1 to -0.78)        -1.71 (-2.73 to -0.68)      0.003 \n",
       "11 -2.06 (-2.95 to -1.17)       -0.53 (-1.65 to 0.58)       0.3   \n",
       "12 -1.54 (-2.25 to -0.83)       -0.98 (-2.19 to 0.22)       0.1   \n",
       "13 -0.83 (-1.86 to 0.21)        -2.15 (-3.47 to -0.83)      0.003 \n",
       "14 -1.71 (-2.98 to -0.44)       -0.65 (-2.23 to 0.93)       0.4   \n",
       "15 -1.7 (-3.15 to -0.24)        0.04 (-2.17 to 2.25)        1     \n",
       "16 -1.42 (-42.17 to 39.33)      41.12 (-18.33 to 100.57)    0.2   \n",
       "17 7.84 (-27.9 to 43.58)        36 (-22.87 to 94.87)        0.2   \n",
       "18 17.14 (-17.27 to 51.55)      4.73 (-56.23 to 65.68)      0.9   \n",
       "19 0.25 (-0.05 to 0.55)         -0.1 (-0.53 to 0.33)        0.6   \n",
       "20 0.07 (-0.37 to 0.52)         0.07 (-0.52 to 0.67)        0.8   \n",
       "21 0.47 (0.07 to 0.88)          -0.16 (-0.72 to 0.4)        0.6   \n",
       "22 -0.94 (-4.84 to 2.97)        -11.1 (-16.64 to -5.56)     5e-04 \n",
       "23 -4.81 (-9.28 to -0.33)       -5.07 (-10.9 to 0.77)       0.08  \n",
       "24 -3.8 (-8.01 to 0.41)         -4 (-9.49 to 1.48)          0.1   \n",
       "25 1.93 (-2.62 to 6.49)         0.21 (-7.12 to 7.54)        1     \n",
       "26 4.5 (0.87 to 8.13)           -0.11 (-7.57 to 7.35)       1     \n",
       "27 1.04 (-5.07 to 7.14)         4.77 (-5.03 to 14.57)       0.3   \n",
       "28 4.14 (0.68 to 7.6)           7.43 (1.75 to 13.11)        0.01  \n",
       "29 6.29 (1.98 to 10.59)         4.51 (-2.35 to 11.37)       0.2   \n",
       "30 4.1 (0 to 8.2)               6.32 (-0.45 to 13.08)       0.07  \n",
       "31 -0.7 (-3.88 to 2.48)         -6.7 (-12 to -1.4)          0.02  \n",
       "32 -1.1 (-5.04 to 2.84)         -5.3 (-11.52 to 0.92)       0.09  \n",
       "33 1.65 (-2.39 to 5.69)         -8.9 (-14.92 to -2.88)      0.006 \n",
       "34 -0.11 (-0.53 to 0.31)        0.71 (-0.06 to 1.48)        0.07  \n",
       "35 -0.17 (-0.69 to 0.35)        0.85 (0.08 to 1.62)         0.03  \n",
       "36 -0.24 (-0.65 to 0.17)        0.96 (0.18 to 1.74)         0.02  "
      ]
     },
     "metadata": {},
     "output_type": "display_data"
    }
   ],
   "source": [
    "table2"
   ]
  }
 ],
 "metadata": {
  "kernelspec": {
   "display_name": "R",
   "language": "R",
   "name": "ir"
  },
  "language_info": {
   "codemirror_mode": "r",
   "file_extension": ".r",
   "mimetype": "text/x-r-source",
   "name": "R",
   "pygments_lexer": "r",
   "version": "3.4.1"
  }
 },
 "nbformat": 4,
 "nbformat_minor": 2
}
