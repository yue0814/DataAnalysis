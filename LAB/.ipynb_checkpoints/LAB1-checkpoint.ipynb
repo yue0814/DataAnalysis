{
 "cells": [
  {
   "cell_type": "code",
   "execution_count": 3,
   "metadata": {},
   "outputs": [
    {
     "name": "stderr",
     "output_type": "stream",
     "text": [
      "Loading tidyverse: ggplot2\n",
      "Loading tidyverse: tibble\n",
      "Loading tidyverse: tidyr\n",
      "Loading tidyverse: readr\n",
      "Loading tidyverse: purrr\n",
      "Conflicts with tidy packages ---------------------------------------------------\n",
      "filter(): dplyr, stats\n",
      "lag():    dplyr, stats\n"
     ]
    }
   ],
   "source": [
    "library(rvest)\n",
    "library(dplyr)\n",
    "library(stringr)\n",
    "library(tidyverse)\n",
    "library(forcats)"
   ]
  },
  {
   "cell_type": "code",
   "execution_count": 11,
   "metadata": {},
   "outputs": [],
   "source": [
    "html_superbowl <- read_html(\"https://espn.go.com/nfl/superbowl/history/winners\")\n",
    "df_superbowl <- html_table(html_nodes(html_superbowl, \"table\")[[1]], fill=TRUE)"
   ]
  },
  {
   "cell_type": "code",
   "execution_count": 12,
   "metadata": {},
   "outputs": [
    {
     "data": {
      "text/html": [
       "<table>\n",
       "<thead><tr><th scope=col>X1</th><th scope=col>X2</th><th scope=col>X3</th><th scope=col>X4</th></tr></thead>\n",
       "<tbody>\n",
       "\t<tr><td>Super Bowl Winners and Results</td><td>Super Bowl Winners and Results</td><td>Super Bowl Winners and Results</td><td>Super Bowl Winners and Results</td></tr>\n",
       "\t<tr><td>NO.                           </td><td>DATE                          </td><td>SITE                          </td><td>RESULT                        </td></tr>\n",
       "\t<tr><td>I                             </td><td>Jan. 15, 1967                 </td><td>Los Angeles Memorial Coliseum </td><td>Green Bay 35, Kansas City 10  </td></tr>\n",
       "\t<tr><td>II                            </td><td>Jan. 14, 1968                 </td><td>Orange Bowl (Miami)           </td><td>Green Bay 33, Oakland 14      </td></tr>\n",
       "\t<tr><td>III                           </td><td>Jan. 12, 1969                 </td><td>Orange Bowl (Miami)           </td><td>New York Jets 16, Baltimore 7 </td></tr>\n",
       "\t<tr><td>IV                            </td><td>Jan. 11, 1970                 </td><td>Tulane Stadium (New Orleans)  </td><td>Kansas City 23, Minnesota 7   </td></tr>\n",
       "</tbody>\n",
       "</table>\n"
      ],
      "text/latex": [
       "\\begin{tabular}{r|llll}\n",
       " X1 & X2 & X3 & X4\\\\\n",
       "\\hline\n",
       "\t Super Bowl Winners and Results & Super Bowl Winners and Results & Super Bowl Winners and Results & Super Bowl Winners and Results\\\\\n",
       "\t NO.                            & DATE                           & SITE                           & RESULT                        \\\\\n",
       "\t I                              & Jan. 15, 1967                  & Los Angeles Memorial Coliseum  & Green Bay 35, Kansas City 10  \\\\\n",
       "\t II                             & Jan. 14, 1968                  & Orange Bowl (Miami)            & Green Bay 33, Oakland 14      \\\\\n",
       "\t III                            & Jan. 12, 1969                  & Orange Bowl (Miami)            & New York Jets 16, Baltimore 7 \\\\\n",
       "\t IV                             & Jan. 11, 1970                  & Tulane Stadium (New Orleans)   & Kansas City 23, Minnesota 7   \\\\\n",
       "\\end{tabular}\n"
      ],
      "text/markdown": [
       "\n",
       "X1 | X2 | X3 | X4 | \n",
       "|---|---|---|---|---|---|\n",
       "| Super Bowl Winners and Results | Super Bowl Winners and Results | Super Bowl Winners and Results | Super Bowl Winners and Results | \n",
       "| NO.                            | DATE                           | SITE                           | RESULT                         | \n",
       "| I                              | Jan. 15, 1967                  | Los Angeles Memorial Coliseum  | Green Bay 35, Kansas City 10   | \n",
       "| II                             | Jan. 14, 1968                  | Orange Bowl (Miami)            | Green Bay 33, Oakland 14       | \n",
       "| III                            | Jan. 12, 1969                  | Orange Bowl (Miami)            | New York Jets 16, Baltimore 7  | \n",
       "| IV                             | Jan. 11, 1970                  | Tulane Stadium (New Orleans)   | Kansas City 23, Minnesota 7    | \n",
       "\n",
       "\n"
      ],
      "text/plain": [
       "  X1                             X2                            \n",
       "1 Super Bowl Winners and Results Super Bowl Winners and Results\n",
       "2 NO.                            DATE                          \n",
       "3 I                              Jan. 15, 1967                 \n",
       "4 II                             Jan. 14, 1968                 \n",
       "5 III                            Jan. 12, 1969                 \n",
       "6 IV                             Jan. 11, 1970                 \n",
       "  X3                             X4                            \n",
       "1 Super Bowl Winners and Results Super Bowl Winners and Results\n",
       "2 SITE                           RESULT                        \n",
       "3 Los Angeles Memorial Coliseum  Green Bay 35, Kansas City 10  \n",
       "4 Orange Bowl (Miami)            Green Bay 33, Oakland 14      \n",
       "5 Orange Bowl (Miami)            New York Jets 16, Baltimore 7 \n",
       "6 Tulane Stadium (New Orleans)   Kansas City 23, Minnesota 7   "
      ]
     },
     "metadata": {},
     "output_type": "display_data"
    }
   ],
   "source": [
    "head(df_superbowl)"
   ]
  },
  {
   "cell_type": "code",
   "execution_count": 13,
   "metadata": {
    "collapsed": true
   },
   "outputs": [],
   "source": [
    "html_world_ports <- read_html(\"https://en.wikipedia.org/wiki/List_of_busiest_container_ports\")\n",
    "df_world_ports <- html_table(html_nodes(html_world_ports, \"table\")[[1]], fill = TRUE)"
   ]
  },
  {
   "cell_type": "code",
   "execution_count": null,
   "metadata": {
    "collapsed": true
   },
   "outputs": [],
   "source": [
    "df_world_ports <- gather(df_world_ports, year, volume, 4:15)"
   ]
  },
  {
   "cell_type": "code",
   "execution_count": null,
   "metadata": {
    "collapsed": true
   },
   "outputs": [],
   "source": [
    "df_world_ports <- df_world_ports %>%\n",
    "                                mutate(Jurisdiction=as.factor(str_trim(Jurisdiction)), Port=as.factor(Port),\n",
    "                                      year=as.factor(year), volume=as.numeric(str_replace(volume, \",\", \"\")))"
   ]
  },
  {
   "cell_type": "code",
   "execution_count": 17,
   "metadata": {},
   "outputs": [
    {
     "data": {
      "text/html": [
       "<table>\n",
       "<thead><tr><th scope=col>Rank</th><th scope=col>Port</th><th scope=col>Jurisdiction</th><th scope=col>year</th><th scope=col>volume</th></tr></thead>\n",
       "<tbody>\n",
       "\t<tr><td>1              </td><td>Shanghai       </td><td>China          </td><td>2015[1]        </td><td>36516          </td></tr>\n",
       "\t<tr><td>2              </td><td>Singapore      </td><td>Singapore      </td><td>2015[1]        </td><td>30922          </td></tr>\n",
       "\t<tr><td>3              </td><td>Shenzhen       </td><td>China          </td><td>2015[1]        </td><td>24142          </td></tr>\n",
       "\t<tr><td>4              </td><td>Ningbo-Zhoushan</td><td>China          </td><td>2015[1]        </td><td>20636          </td></tr>\n",
       "\t<tr><td>5              </td><td>Hong Kong      </td><td>Hong Kong SAR  </td><td>2015[1]        </td><td>20073          </td></tr>\n",
       "\t<tr><td>6              </td><td>Busan          </td><td>South Korea    </td><td>2015[1]        </td><td>19469          </td></tr>\n",
       "</tbody>\n",
       "</table>\n"
      ],
      "text/latex": [
       "\\begin{tabular}{r|lllll}\n",
       " Rank & Port & Jurisdiction & year & volume\\\\\n",
       "\\hline\n",
       "\t 1               & Shanghai        & China           & 2015{[}1{]}     & 36516          \\\\\n",
       "\t 2               & Singapore       & Singapore       & 2015{[}1{]}     & 30922          \\\\\n",
       "\t 3               & Shenzhen        & China           & 2015{[}1{]}     & 24142          \\\\\n",
       "\t 4               & Ningbo-Zhoushan & China           & 2015{[}1{]}     & 20636          \\\\\n",
       "\t 5               & Hong Kong       & Hong Kong SAR   & 2015{[}1{]}     & 20073          \\\\\n",
       "\t 6               & Busan           & South Korea     & 2015{[}1{]}     & 19469          \\\\\n",
       "\\end{tabular}\n"
      ],
      "text/markdown": [
       "\n",
       "Rank | Port | Jurisdiction | year | volume | \n",
       "|---|---|---|---|---|---|\n",
       "| 1               | Shanghai        | China           | 2015[1]         | 36516           | \n",
       "| 2               | Singapore       | Singapore       | 2015[1]         | 30922           | \n",
       "| 3               | Shenzhen        | China           | 2015[1]         | 24142           | \n",
       "| 4               | Ningbo-Zhoushan | China           | 2015[1]         | 20636           | \n",
       "| 5               | Hong Kong       | Hong Kong SAR   | 2015[1]         | 20073           | \n",
       "| 6               | Busan           | South Korea     | 2015[1]         | 19469           | \n",
       "\n",
       "\n"
      ],
      "text/plain": [
       "  Rank Port            Jurisdiction  year    volume\n",
       "1 1    Shanghai        China         2015[1] 36516 \n",
       "2 2    Singapore       Singapore     2015[1] 30922 \n",
       "3 3    Shenzhen        China         2015[1] 24142 \n",
       "4 4    Ningbo-Zhoushan China         2015[1] 20636 \n",
       "5 5    Hong Kong       Hong Kong SAR 2015[1] 20073 \n",
       "6 6    Busan           South Korea   2015[1] 19469 "
      ]
     },
     "metadata": {},
     "output_type": "display_data"
    }
   ],
   "source": [
    "head(df_world_ports)"
   ]
  },
  {
   "cell_type": "code",
   "execution_count": null,
   "metadata": {
    "collapsed": true
   },
   "outputs": [],
   "source": []
  }
 ],
 "metadata": {
  "kernelspec": {
   "display_name": "R",
   "language": "R",
   "name": "ir"
  },
  "language_info": {
   "codemirror_mode": "r",
   "file_extension": ".r",
   "mimetype": "text/x-r-source",
   "name": "R",
   "pygments_lexer": "r",
   "version": "3.4.1"
  }
 },
 "nbformat": 4,
 "nbformat_minor": 2
}
